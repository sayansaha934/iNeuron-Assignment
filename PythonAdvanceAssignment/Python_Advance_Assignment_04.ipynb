{
 "cells": [
  {
   "cell_type": "markdown",
   "id": "81cc254c",
   "metadata": {},
   "source": [
    "Q1.Which two operator overloading methods can you use in your classes to support iteration?\n",
    "\n",
    "'  __iter__  '  and   '  __next__  '"
   ]
  },
  {
   "cell_type": "markdown",
   "id": "ccc4469a",
   "metadata": {},
   "source": [
    "Q2.In what contexts do the two operator overloading methods manage printing?\n",
    "\n",
    "__str__  and __repr__"
   ]
  },
  {
   "cell_type": "markdown",
   "id": "60535ba4",
   "metadata": {},
   "source": [
    "Q3.In a class, how do you intercept slice operations?\n",
    "\n",
    " In a class use of slice() in __getitem__ method  is used for intercept slice operation.\n",
    " \n",
    " __getitem__(slice(start,stop,step))"
   ]
  },
  {
   "cell_type": "markdown",
   "id": "0e810852",
   "metadata": {},
   "source": [
    "Q4.In a class, how do you capture in-place addition?"
   ]
  },
  {
   "cell_type": "markdown",
   "id": "f72e37c5",
   "metadata": {},
   "source": [
    "a+b is normal addition whereas a+=b is inplace addition. In classs __iadd__method is used for inplace addition"
   ]
  },
  {
   "cell_type": "markdown",
   "id": "081ed0ad",
   "metadata": {},
   "source": [
    "Here x=x+y means x=operator.iadd(x,y)"
   ]
  },
  {
   "cell_type": "markdown",
   "id": "99e2affe",
   "metadata": {},
   "source": [
    "Q5.When is it appropriate to use operator overloading?\n",
    "\n",
    "Only overload additional operators if you have a lot of demand for that functionality and doesn't have any side effect"
   ]
  },
  {
   "cell_type": "code",
   "execution_count": null,
   "id": "69cec65e",
   "metadata": {},
   "outputs": [],
   "source": []
  }
 ],
 "metadata": {
  "kernelspec": {
   "display_name": "Python 3 (ipykernel)",
   "language": "python",
   "name": "python3"
  },
  "language_info": {
   "codemirror_mode": {
    "name": "ipython",
    "version": 3
   },
   "file_extension": ".py",
   "mimetype": "text/x-python",
   "name": "python",
   "nbconvert_exporter": "python",
   "pygments_lexer": "ipython3",
   "version": "3.9.9"
  }
 },
 "nbformat": 4,
 "nbformat_minor": 5
}
