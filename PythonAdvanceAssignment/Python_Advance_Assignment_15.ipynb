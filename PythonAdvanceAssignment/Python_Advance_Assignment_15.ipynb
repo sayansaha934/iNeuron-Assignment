{
 "cells": [
  {
   "cell_type": "markdown",
   "id": "2dba8621",
   "metadata": {},
   "source": [
    "1.What are the new features added in Python 3.8 version?\n",
    "\n",
    "Positional-only parameters(/)\n",
    "\n",
    "Assignment Expressions(:=)\n",
    "\n",
    "f-strings now support “=”\n",
    "\n",
    "reversed() works with a dictionary\n",
    "\n",
    "No parentheses for return and yield statements\n",
    "\n",
    "pow() function\n",
    "\n",
    "Syntax Warning\n",
    "\n",
    "Dictionary comprehension\n",
    "\n",
    "‘csv’ module\n",
    "\n",
    "importlib_metadata\n"
   ]
  },
  {
   "cell_type": "markdown",
   "id": "4db99902",
   "metadata": {},
   "source": [
    "2.What is monkey patching in Python?\n",
    "\n",
    "In Python, the term monkey patch refers to dynamic (or run-time) modifications of a class or module. In Python, we can actually change the behavior of code at run-time."
   ]
  },
  {
   "cell_type": "code",
   "execution_count": 6,
   "id": "14004e48",
   "metadata": {},
   "outputs": [],
   "source": [
    "#monk.py\n",
    "\n",
    "class A:\n",
    "    def funcA(self):\n",
    "        print('funcA is called')"
   ]
  },
  {
   "cell_type": "code",
   "execution_count": 7,
   "id": "d2a1feea",
   "metadata": {},
   "outputs": [
    {
     "name": "stdout",
     "output_type": "stream",
     "text": [
      "funcB is called\n"
     ]
    }
   ],
   "source": [
    "import monk\n",
    "def funcB(self):\n",
    "    print('funcB is called')\n",
    "monk.A.funcA=funcB\n",
    "obj=monk.A()\n",
    "obj.funcA()"
   ]
  },
  {
   "cell_type": "markdown",
   "id": "c1110d86",
   "metadata": {},
   "source": [
    "3.What is the difference between a shallow copy and deep copy?"
   ]
  },
  {
   "cell_type": "code",
   "execution_count": 58,
   "id": "1339cf06",
   "metadata": {},
   "outputs": [],
   "source": [
    "import copy\n",
    "li=[[5,10],[15,20]]\n",
    "li1=copy.copy(li)     #shallow copy\n",
    "li2=copy.deepcopy(li) #deep copy"
   ]
  },
  {
   "cell_type": "code",
   "execution_count": 59,
   "id": "9c7d9385",
   "metadata": {},
   "outputs": [],
   "source": [
    "li[0][0]=30"
   ]
  },
  {
   "cell_type": "code",
   "execution_count": 60,
   "id": "85044fb2",
   "metadata": {},
   "outputs": [
    {
     "data": {
      "text/plain": [
       "[[30, 10], [15, 20]]"
      ]
     },
     "execution_count": 60,
     "metadata": {},
     "output_type": "execute_result"
    }
   ],
   "source": [
    "li1"
   ]
  },
  {
   "cell_type": "code",
   "execution_count": 61,
   "id": "a9ae141a",
   "metadata": {},
   "outputs": [
    {
     "data": {
      "text/plain": [
       "[[5, 10], [15, 20]]"
      ]
     },
     "execution_count": 61,
     "metadata": {},
     "output_type": "execute_result"
    }
   ],
   "source": [
    "li2"
   ]
  },
  {
   "cell_type": "markdown",
   "id": "830f8256",
   "metadata": {},
   "source": [
    "4.What is the maximum possible length of an identifier?\n",
    "\n",
    "79"
   ]
  },
  {
   "cell_type": "markdown",
   "id": "de066b70",
   "metadata": {},
   "source": [
    "5.What is generator comprehension?"
   ]
  },
  {
   "cell_type": "code",
   "execution_count": 62,
   "id": "f70c0753",
   "metadata": {},
   "outputs": [],
   "source": [
    "gen=(i for i in range(10) if i%2==0)"
   ]
  },
  {
   "cell_type": "code",
   "execution_count": 63,
   "id": "52df766a",
   "metadata": {},
   "outputs": [
    {
     "data": {
      "text/plain": [
       "<generator object <genexpr> at 0x0000027D9466E4A0>"
      ]
     },
     "execution_count": 63,
     "metadata": {},
     "output_type": "execute_result"
    }
   ],
   "source": [
    "gen"
   ]
  },
  {
   "cell_type": "code",
   "execution_count": 64,
   "id": "91b4a894",
   "metadata": {},
   "outputs": [
    {
     "data": {
      "text/plain": [
       "0"
      ]
     },
     "execution_count": 64,
     "metadata": {},
     "output_type": "execute_result"
    }
   ],
   "source": [
    "next(gen)"
   ]
  },
  {
   "cell_type": "code",
   "execution_count": 65,
   "id": "5d71d63e",
   "metadata": {},
   "outputs": [
    {
     "data": {
      "text/plain": [
       "2"
      ]
     },
     "execution_count": 65,
     "metadata": {},
     "output_type": "execute_result"
    }
   ],
   "source": [
    "next(gen)"
   ]
  },
  {
   "cell_type": "code",
   "execution_count": 66,
   "id": "3a43cdbe",
   "metadata": {},
   "outputs": [
    {
     "data": {
      "text/plain": [
       "4"
      ]
     },
     "execution_count": 66,
     "metadata": {},
     "output_type": "execute_result"
    }
   ],
   "source": [
    "next(gen)"
   ]
  }
 ],
 "metadata": {
  "kernelspec": {
   "display_name": "Python 3 (ipykernel)",
   "language": "python",
   "name": "python3"
  },
  "language_info": {
   "codemirror_mode": {
    "name": "ipython",
    "version": 3
   },
   "file_extension": ".py",
   "mimetype": "text/x-python",
   "name": "python",
   "nbconvert_exporter": "python",
   "pygments_lexer": "ipython3",
   "version": "3.9.9"
  }
 },
 "nbformat": 4,
 "nbformat_minor": 5
}
