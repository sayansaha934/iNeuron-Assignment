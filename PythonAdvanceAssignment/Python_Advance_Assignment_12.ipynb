{
 "cells": [
  {
   "cell_type": "markdown",
   "id": "5bbe0382",
   "metadata": {},
   "source": [
    "Q1.Does assigning a value to a string's indexed character violate Python's string immutability?"
   ]
  },
  {
   "cell_type": "code",
   "execution_count": 4,
   "id": "8ea0fb9e",
   "metadata": {},
   "outputs": [
    {
     "ename": "TypeError",
     "evalue": "'str' object does not support item assignment",
     "output_type": "error",
     "traceback": [
      "\u001b[1;31m---------------------------------------------------------------------------\u001b[0m",
      "\u001b[1;31mTypeError\u001b[0m                                 Traceback (most recent call last)",
      "\u001b[1;32mC:\\Users\\SAYANS~1\\AppData\\Local\\Temp/ipykernel_9552/1991391626.py\u001b[0m in \u001b[0;36m<module>\u001b[1;34m\u001b[0m\n\u001b[0;32m      1\u001b[0m \u001b[0ms\u001b[0m\u001b[1;33m=\u001b[0m\u001b[1;34m'ineuron'\u001b[0m\u001b[1;33m\u001b[0m\u001b[1;33m\u001b[0m\u001b[0m\n\u001b[1;32m----> 2\u001b[1;33m \u001b[0ms\u001b[0m\u001b[1;33m[\u001b[0m\u001b[1;36m1\u001b[0m\u001b[1;33m]\u001b[0m\u001b[1;33m=\u001b[0m\u001b[1;34m'z'\u001b[0m\u001b[1;33m\u001b[0m\u001b[1;33m\u001b[0m\u001b[0m\n\u001b[0m",
      "\u001b[1;31mTypeError\u001b[0m: 'str' object does not support item assignment"
     ]
    }
   ],
   "source": [
    "s='ineuron'\n",
    "s[1]='z'"
   ]
  },
  {
   "cell_type": "markdown",
   "id": "f82bbb7a",
   "metadata": {},
   "source": [
    "yes it violates python's string immutability"
   ]
  },
  {
   "cell_type": "markdown",
   "id": "13a8cf01",
   "metadata": {},
   "source": [
    "Q2.Does using the += operator to concatenate strings violate Python's string immutability? Why or\n",
    "why not?"
   ]
  },
  {
   "cell_type": "code",
   "execution_count": 6,
   "id": "3fdfdb15",
   "metadata": {},
   "outputs": [
    {
     "data": {
      "text/plain": [
       "'ineuronml'"
      ]
     },
     "execution_count": 6,
     "metadata": {},
     "output_type": "execute_result"
    }
   ],
   "source": [
    "s='ineuron'\n",
    "s+='ml'\n",
    "s"
   ]
  },
  {
   "cell_type": "markdown",
   "id": "5a2ea768",
   "metadata": {},
   "source": [
    "Here we are concatenating two string not assigning any value to a indexed character. It does not violate python's string immutability"
   ]
  },
  {
   "cell_type": "markdown",
   "id": "dd4a0a32",
   "metadata": {},
   "source": [
    "Q3.In Python, how many different ways are there to index a character?\n",
    "\n",
    "There are two methods index() and find() both will return lowest index at which character is found."
   ]
  },
  {
   "cell_type": "markdown",
   "id": "75995c0e",
   "metadata": {},
   "source": [
    "Q4.What is the relationship between indexing and slicing?\n",
    "\n",
    "slicing is done by using index"
   ]
  },
  {
   "cell_type": "markdown",
   "id": "ff4d91f7",
   "metadata": {},
   "source": [
    "Q5.What is an indexed character's exact data type? What is the data form of a slicing-generated substring?\n",
    "\n",
    "For both data type is string"
   ]
  },
  {
   "cell_type": "markdown",
   "id": "0510df09",
   "metadata": {},
   "source": [
    "Q6.What is the relationship between string and character \"types\" in Python?\n",
    "\n",
    "There is no char data type in python even a single character enclosed in a qoute is considered a string."
   ]
  },
  {
   "cell_type": "markdown",
   "id": "1a2fbc86",
   "metadata": {},
   "source": [
    "Q7.Identify at least two operators and one method that allow you to combine one or more smaller\n",
    "strings to create a larger string."
   ]
  },
  {
   "cell_type": "code",
   "execution_count": 29,
   "id": "7826ffa0",
   "metadata": {},
   "outputs": [],
   "source": [
    "s1='ineuron'\n",
    "s2='ai'\n",
    "s3='ml'"
   ]
  },
  {
   "cell_type": "code",
   "execution_count": 30,
   "id": "285e4279",
   "metadata": {},
   "outputs": [
    {
     "data": {
      "text/plain": [
       "'ineuronaiml'"
      ]
     },
     "execution_count": 30,
     "metadata": {},
     "output_type": "execute_result"
    }
   ],
   "source": [
    "s1+s2+s3"
   ]
  },
  {
   "cell_type": "code",
   "execution_count": 31,
   "id": "077e8232",
   "metadata": {},
   "outputs": [
    {
     "data": {
      "text/plain": [
       "'ineuronaiml'"
      ]
     },
     "execution_count": 31,
     "metadata": {},
     "output_type": "execute_result"
    }
   ],
   "source": [
    "s='%s%s%s'%(s1,s2,s3)\n",
    "s"
   ]
  },
  {
   "cell_type": "code",
   "execution_count": 32,
   "id": "2fc711b0",
   "metadata": {},
   "outputs": [
    {
     "data": {
      "text/plain": [
       "'ineuronaiml'"
      ]
     },
     "execution_count": 32,
     "metadata": {},
     "output_type": "execute_result"
    }
   ],
   "source": [
    "''.join([s1,s2,s3])"
   ]
  },
  {
   "cell_type": "markdown",
   "id": "192413a2",
   "metadata": {},
   "source": [
    "Q8.What is the benefit of first checking the target string with in or not in before using the index\n",
    "method to find a substring?\n",
    "\n",
    "If the substring is not present in the string then index method will throw value error. "
   ]
  },
  {
   "cell_type": "markdown",
   "id": "bd60141b",
   "metadata": {},
   "source": [
    "Q9.Which operators and built-in string methods produce simple Boolean (true/false) results?\n",
    "\n",
    "'==','>','<','<=','>=','!='  and  'isalpha','isdigit','isdecimal','islower','isnumeric','isupper','istitle','endswidth','isidentifier','isspace'. "
   ]
  }
 ],
 "metadata": {
  "kernelspec": {
   "display_name": "Python 3 (ipykernel)",
   "language": "python",
   "name": "python3"
  },
  "language_info": {
   "codemirror_mode": {
    "name": "ipython",
    "version": 3
   },
   "file_extension": ".py",
   "mimetype": "text/x-python",
   "name": "python",
   "nbconvert_exporter": "python",
   "pygments_lexer": "ipython3",
   "version": "3.9.9"
  }
 },
 "nbformat": 4,
 "nbformat_minor": 5
}
