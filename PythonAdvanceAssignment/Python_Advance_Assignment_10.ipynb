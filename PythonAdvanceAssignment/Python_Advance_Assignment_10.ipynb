{
 "cells": [
  {
   "cell_type": "markdown",
   "id": "b7214c46",
   "metadata": {},
   "source": [
    "Q1.What is the difference between __getattr__ and __getattribute__?\n",
    "\n",
    "Python will call __getattr__ method whenever you request an attribute that hasn't already been defined. \n",
    "\n",
    "If you have __getattribute__ method in your class, python invokes this method for every attribute regardless whether it exists or not."
   ]
  },
  {
   "cell_type": "markdown",
   "id": "d7f6fac4",
   "metadata": {},
   "source": [
    "Q2.What is the difference between properties and descriptors?\n",
    "\n",
    "Properties-We can bind getter, setter (and deleter) functions with an attribute name, using the built-in property function. \n",
    "\n",
    "Descriptors-We can bind getter, setter (and deleter) functions into a separate class. We then assign an object of this class to the attribute name."
   ]
  },
  {
   "cell_type": "markdown",
   "id": "0c016401",
   "metadata": {},
   "source": [
    "Q3.What are the key differences in functionality between __getattr__ and __getattribute__, as well as\n",
    "properties and descriptors?\n",
    "\n",
    "Python will call __getattr__ method whenever you request an attribute that hasn't already been defined. \n",
    "\n",
    "If you have __getattribute__ method in your class, python invokes this method for every attribute regardless whether it exists or not.\n",
    "\n",
    "Properties-We can bind getter, setter (and deleter) functions with an attribute name, using the built-in property function. \n",
    "\n",
    "Descriptors-We can bind getter, setter (and deleter) functions into a separate class. We then assign an object of this class to the attribute name."
   ]
  }
 ],
 "metadata": {
  "kernelspec": {
   "display_name": "Python 3 (ipykernel)",
   "language": "python",
   "name": "python3"
  },
  "language_info": {
   "codemirror_mode": {
    "name": "ipython",
    "version": 3
   },
   "file_extension": ".py",
   "mimetype": "text/x-python",
   "name": "python",
   "nbconvert_exporter": "python",
   "pygments_lexer": "ipython3",
   "version": "3.9.9"
  }
 },
 "nbformat": 4,
 "nbformat_minor": 5
}
