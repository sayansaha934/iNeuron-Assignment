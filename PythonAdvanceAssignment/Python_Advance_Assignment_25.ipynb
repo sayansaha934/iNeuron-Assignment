{
 "cells": [
  {
   "cell_type": "markdown",
   "id": "0ef86af8",
   "metadata": {},
   "source": [
    "Q1.What is the distinction between a numpy array and a pandas data frame? Is there a way to\n",
    "convert between the two if there is?\n",
    "\n",
    "Numpy array stores homegeneous element(element of same data type) but dataframe stores heterogenous element.\n"
   ]
  },
  {
   "cell_type": "code",
   "execution_count": 3,
   "id": "73d78759",
   "metadata": {},
   "outputs": [
    {
     "data": {
      "text/html": [
       "<div>\n",
       "<style scoped>\n",
       "    .dataframe tbody tr th:only-of-type {\n",
       "        vertical-align: middle;\n",
       "    }\n",
       "\n",
       "    .dataframe tbody tr th {\n",
       "        vertical-align: top;\n",
       "    }\n",
       "\n",
       "    .dataframe thead th {\n",
       "        text-align: right;\n",
       "    }\n",
       "</style>\n",
       "<table border=\"1\" class=\"dataframe\">\n",
       "  <thead>\n",
       "    <tr style=\"text-align: right;\">\n",
       "      <th></th>\n",
       "      <th>0</th>\n",
       "      <th>1</th>\n",
       "    </tr>\n",
       "  </thead>\n",
       "  <tbody>\n",
       "    <tr>\n",
       "      <th>0</th>\n",
       "      <td>10</td>\n",
       "      <td>20</td>\n",
       "    </tr>\n",
       "    <tr>\n",
       "      <th>1</th>\n",
       "      <td>30</td>\n",
       "      <td>40</td>\n",
       "    </tr>\n",
       "  </tbody>\n",
       "</table>\n",
       "</div>"
      ],
      "text/plain": [
       "    0   1\n",
       "0  10  20\n",
       "1  30  40"
      ]
     },
     "execution_count": 3,
     "metadata": {},
     "output_type": "execute_result"
    }
   ],
   "source": [
    "import numpy as np\n",
    "import pandas as pd\n",
    "a=np.array([[10,20],[30,40]])\n",
    "b=pd.DataFrame(a)  # numpy array to dataframe\n",
    "b"
   ]
  },
  {
   "cell_type": "code",
   "execution_count": 4,
   "id": "df8ff348",
   "metadata": {},
   "outputs": [
    {
     "data": {
      "text/plain": [
       "array([[10, 20],\n",
       "       [30, 40]])"
      ]
     },
     "execution_count": 4,
     "metadata": {},
     "output_type": "execute_result"
    }
   ],
   "source": [
    "b.values  #dataframe to array"
   ]
  },
  {
   "cell_type": "markdown",
   "id": "761414e5",
   "metadata": {},
   "source": [
    "Q2.What can go wrong when an user enters in a stock-ticker symbol, and how do you handle it?\n",
    "\n"
   ]
  },
  {
   "cell_type": "markdown",
   "id": "83c19288",
   "metadata": {},
   "source": [
    "Q3.Identify some of the plotting techniques that are used to produce a stock-market chart.\n",
    "\n",
    "LINE CHART.POINT AND FIGURE CHART, CANDLESTICK CHART, BAR CHART."
   ]
  },
  {
   "cell_type": "markdown",
   "id": "1b68f509",
   "metadata": {},
   "source": [
    "Q4.Why is it essential to print a legend on a stock market chart?\n",
    "\n",
    "Legends adds a beauty to visualize the trend of data w.r.t. different features. It creates the different \n",
    "trend in different colors indicating that which is belong to which trend is belong to which feature."
   ]
  },
  {
   "cell_type": "markdown",
   "id": "fe9615d2",
   "metadata": {},
   "source": [
    "Q5.What is the best way to limit the length of a pandas data frame to less than a year?\n",
    "\n"
   ]
  },
  {
   "cell_type": "markdown",
   "id": "8a24f808",
   "metadata": {},
   "source": [
    "Q6.What is the definition of a 180-day moving average?\n",
    "\n",
    "Moving Averages help to filter out market noise and smooth out fluctuations in price. In statistics, a moving\n",
    "average is a calculation used to analyze data points by creating a series of averages of different subsets of \n",
    "the full data set. 180-day moving average means A simple moving average (SMA) is a arithmetic mean of a given \n",
    "set of prices over the 180 days in the past"
   ]
  },
  {
   "cell_type": "markdown",
   "id": "dda506e5",
   "metadata": {},
   "source": [
    "Q7.Did the chapter's final example use \"indirect\" importing? If so, how exactly do you do it?"
   ]
  }
 ],
 "metadata": {
  "kernelspec": {
   "display_name": "Python 3 (ipykernel)",
   "language": "python",
   "name": "python3"
  },
  "language_info": {
   "codemirror_mode": {
    "name": "ipython",
    "version": 3
   },
   "file_extension": ".py",
   "mimetype": "text/x-python",
   "name": "python",
   "nbconvert_exporter": "python",
   "pygments_lexer": "ipython3",
   "version": "3.9.7"
  }
 },
 "nbformat": 4,
 "nbformat_minor": 5
}
