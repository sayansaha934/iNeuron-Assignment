{
 "cells": [
  {
   "cell_type": "markdown",
   "id": "c096865f",
   "metadata": {},
   "source": [
    "1.Compare and contrast the float and Decimal classes' benefits and drawbacks.\n",
    "\n",
    "float is faster than decimel\n",
    "\n",
    "decimel is more precise than float\n"
   ]
  },
  {
   "cell_type": "markdown",
   "id": "f17e66b4",
   "metadata": {},
   "source": [
    "2.Decimal('1.200') and Decimal('1.2') are two objects to consider. In what sense are these the same\n",
    "object? Are these just two ways of representing the exact same value, or do they correspond to\n",
    "different internal states?\n",
    "\n",
    "Though they are identical value wise, internal representation or internal state of these two \n",
    "values are different, as they have decimal values of different precisions. "
   ]
  },
  {
   "cell_type": "code",
   "execution_count": 25,
   "id": "3e173272",
   "metadata": {},
   "outputs": [
    {
     "name": "stdout",
     "output_type": "stream",
     "text": [
      "1.200\n",
      "1.2\n"
     ]
    }
   ],
   "source": [
    "from decimal import Decimal\n",
    "print(Decimal('1.200'))\n",
    "print(Decimal('1.2'))"
   ]
  },
  {
   "cell_type": "markdown",
   "id": "fb3b4030",
   "metadata": {},
   "source": [
    "3.What happens if the equality of Decimal('1.200') and Decimal('1.2') is checked?"
   ]
  },
  {
   "cell_type": "code",
   "execution_count": 7,
   "id": "ecf63e04",
   "metadata": {},
   "outputs": [
    {
     "data": {
      "text/plain": [
       "True"
      ]
     },
     "execution_count": 7,
     "metadata": {},
     "output_type": "execute_result"
    }
   ],
   "source": [
    "Decimal('1.200')==Decimal('1.2')"
   ]
  },
  {
   "cell_type": "markdown",
   "id": "a7c2b13d",
   "metadata": {},
   "source": [
    "4.Why is it preferable to start a Decimal object with a string rather than a floating-point value?\n",
    "\n",
    "decimals should be initialized using strings to prevent precision issues"
   ]
  },
  {
   "cell_type": "markdown",
   "id": "fce9e97c",
   "metadata": {},
   "source": [
    "5.In an arithmetic phrase, how simple is it to combine Decimal objects with integers?"
   ]
  },
  {
   "cell_type": "code",
   "execution_count": 11,
   "id": "90c33f1c",
   "metadata": {},
   "outputs": [
    {
     "name": "stdout",
     "output_type": "stream",
     "text": [
      "6.200\n"
     ]
    }
   ],
   "source": [
    "print(Decimal('1.200')+5)"
   ]
  },
  {
   "cell_type": "markdown",
   "id": "88b633dd",
   "metadata": {},
   "source": [
    "6.Can Decimal objects and floating-point values be combined easily?\n",
    "\n",
    "No"
   ]
  },
  {
   "cell_type": "code",
   "execution_count": 15,
   "id": "ad8624e2",
   "metadata": {},
   "outputs": [
    {
     "ename": "TypeError",
     "evalue": "unsupported operand type(s) for +: 'decimal.Decimal' and 'float'",
     "output_type": "error",
     "traceback": [
      "\u001b[1;31m---------------------------------------------------------------------------\u001b[0m",
      "\u001b[1;31mTypeError\u001b[0m                                 Traceback (most recent call last)",
      "\u001b[1;32mC:\\Users\\SAYANS~1\\AppData\\Local\\Temp/ipykernel_16400/2899678960.py\u001b[0m in \u001b[0;36m<module>\u001b[1;34m\u001b[0m\n\u001b[1;32m----> 1\u001b[1;33m \u001b[0mDecimal\u001b[0m\u001b[1;33m(\u001b[0m\u001b[1;34m'1.200'\u001b[0m\u001b[1;33m)\u001b[0m\u001b[1;33m+\u001b[0m\u001b[1;36m0.55\u001b[0m\u001b[1;33m\u001b[0m\u001b[1;33m\u001b[0m\u001b[0m\n\u001b[0m",
      "\u001b[1;31mTypeError\u001b[0m: unsupported operand type(s) for +: 'decimal.Decimal' and 'float'"
     ]
    }
   ],
   "source": [
    "Decimal('1.200')+0.55"
   ]
  },
  {
   "cell_type": "markdown",
   "id": "8629cc47",
   "metadata": {},
   "source": [
    "7.Using the Fraction class but not the Decimal class, give an example of a quantity that can be\n",
    "expressed with absolute precision."
   ]
  },
  {
   "cell_type": "code",
   "execution_count": 26,
   "id": "434dabe6",
   "metadata": {},
   "outputs": [
    {
     "name": "stdout",
     "output_type": "stream",
     "text": [
      "1/2\n"
     ]
    }
   ],
   "source": [
    "from fractions import Fraction\n",
    "\n",
    "print(Fraction(0.5))"
   ]
  },
  {
   "cell_type": "markdown",
   "id": "fc8f3f98",
   "metadata": {},
   "source": [
    "8.Describe a quantity that can be accurately expressed by the Decimal or Fraction classes but not by\n",
    "a floating-point value."
   ]
  },
  {
   "cell_type": "code",
   "execution_count": 29,
   "id": "7ef2717a",
   "metadata": {},
   "outputs": [
    {
     "name": "stdout",
     "output_type": "stream",
     "text": [
      "0.01\n",
      "1/100\n",
      "0.010000000000000002\n"
     ]
    }
   ],
   "source": [
    "print(Decimal('0.1')*Decimal('0.1'))\n",
    "print(Fraction('1/10')*Fraction('1/10'))\n",
    "print(0.1*0.1)"
   ]
  },
  {
   "cell_type": "markdown",
   "id": "9e8f5d87",
   "metadata": {},
   "source": [
    "Q9.Consider the following two fraction objects: Fraction(1, 2) and Fraction(1, 2). (5, 10). Is the internal\n",
    "state of these two objects the same? Why do you think that is?\n",
    "\n",
    "The internal state of both are same as Fraction(5,10) is reduced to simplest form. \n",
    "Hence 1/2 is printed in both the cases."
   ]
  },
  {
   "cell_type": "code",
   "execution_count": 30,
   "id": "76c62c0a",
   "metadata": {},
   "outputs": [
    {
     "name": "stdout",
     "output_type": "stream",
     "text": [
      "1/2\n"
     ]
    }
   ],
   "source": [
    "print(Fraction(1, 2))"
   ]
  },
  {
   "cell_type": "code",
   "execution_count": 31,
   "id": "a622a0be",
   "metadata": {},
   "outputs": [
    {
     "name": "stdout",
     "output_type": "stream",
     "text": [
      "1/2\n"
     ]
    }
   ],
   "source": [
    "print(Fraction(5, 10))"
   ]
  },
  {
   "cell_type": "markdown",
   "id": "618d8c2d",
   "metadata": {},
   "source": [
    "Q10.How do the Fraction class and the integer type (int) relate to each other? Containment or\n",
    "inheritance?\n",
    "\n",
    "Fraction class and integer type(int) are related in form of a container.\n",
    "It contains two ints, one the numerator and the other the denominator."
   ]
  }
 ],
 "metadata": {
  "kernelspec": {
   "display_name": "Python 3 (ipykernel)",
   "language": "python",
   "name": "python3"
  },
  "language_info": {
   "codemirror_mode": {
    "name": "ipython",
    "version": 3
   },
   "file_extension": ".py",
   "mimetype": "text/x-python",
   "name": "python",
   "nbconvert_exporter": "python",
   "pygments_lexer": "ipython3",
   "version": "3.9.9"
  }
 },
 "nbformat": 4,
 "nbformat_minor": 5
}
