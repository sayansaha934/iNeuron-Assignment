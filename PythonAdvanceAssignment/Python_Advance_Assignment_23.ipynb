{
 "cells": [
  {
   "cell_type": "markdown",
   "id": "8b540eab",
   "metadata": {},
   "source": [
    "Q1.If you have any, what are your choices for increasing the comparison between different figures on the same graph?\n",
    "\n",
    "Bar plot, line plot, scatter plot"
   ]
  },
  {
   "cell_type": "markdown",
   "id": "6641d355",
   "metadata": {},
   "source": [
    "Q2.Can you explain the benefit of compound interest over a higher rate of interest that does not\n",
    "compound after reading this chapter?\n",
    "\n",
    "Compound interest makes your money grow faster because interest is calculated on the accumulated interest \n",
    "over time as well as on your original principal."
   ]
  },
  {
   "cell_type": "markdown",
   "id": "3d363d61",
   "metadata": {},
   "source": [
    "Q3.What is a histogram, exactly? Name a numpy method for creating such a graph.\n",
    "\n",
    "A histogram is an approximate representation of the distribution of numerical data.\n",
    "numpy.histogram()"
   ]
  },
  {
   "cell_type": "markdown",
   "id": "06ba3d2d",
   "metadata": {},
   "source": [
    "Q4.If necessary, how do you change the aspect ratios between the X and Y axes?\n",
    "\n",
    "figure(figsize=(10,20))"
   ]
  },
  {
   "cell_type": "markdown",
   "id": "d2891760",
   "metadata": {},
   "source": [
    "Q5.Compare and contrast the three types of array multiplication between two numpy arrays: dot\n",
    "product, outer product, and regular multiplication of two numpy arrays.\n"
   ]
  },
  {
   "cell_type": "code",
   "execution_count": 3,
   "id": "601dc848",
   "metadata": {},
   "outputs": [],
   "source": [
    "import numpy as np"
   ]
  },
  {
   "cell_type": "code",
   "execution_count": 7,
   "id": "5a7032ff",
   "metadata": {},
   "outputs": [],
   "source": [
    "a1=np.array([[1,2],[3,4]])\n",
    "a2=np.array([[4,5],[6,7]])"
   ]
  },
  {
   "cell_type": "code",
   "execution_count": 12,
   "id": "47252d6d",
   "metadata": {},
   "outputs": [
    {
     "data": {
      "text/plain": [
       "array([[16, 19],\n",
       "       [36, 43]])"
      ]
     },
     "execution_count": 12,
     "metadata": {},
     "output_type": "execute_result"
    }
   ],
   "source": [
    "np.dot(a1,a2)"
   ]
  },
  {
   "cell_type": "code",
   "execution_count": 13,
   "id": "34d81e06",
   "metadata": {},
   "outputs": [
    {
     "data": {
      "text/plain": [
       "array([[ 4,  5,  6,  7],\n",
       "       [ 8, 10, 12, 14],\n",
       "       [12, 15, 18, 21],\n",
       "       [16, 20, 24, 28]])"
      ]
     },
     "execution_count": 13,
     "metadata": {},
     "output_type": "execute_result"
    }
   ],
   "source": [
    "np.outer(a1,a2)"
   ]
  },
  {
   "cell_type": "code",
   "execution_count": 14,
   "id": "2b1e3063",
   "metadata": {},
   "outputs": [
    {
     "data": {
      "text/plain": [
       "array([[ 4, 10],\n",
       "       [18, 28]])"
      ]
     },
     "execution_count": 14,
     "metadata": {},
     "output_type": "execute_result"
    }
   ],
   "source": [
    "np.multiply(a1,a2)"
   ]
  },
  {
   "cell_type": "markdown",
   "id": "1e8a5bc8",
   "metadata": {},
   "source": [
    "Q6.Before you buy a home, which numpy function will you use to measure your monthly mortgage payment?\n",
    "\n",
    "np.pmt(rate, nper, pv)\n",
    "\n",
    "rate = The periodic interest rate\n",
    "\n",
    "nper = The number of payment periods\n",
    "\n",
    "pv = The total value of the mortgage loan"
   ]
  },
  {
   "cell_type": "markdown",
   "id": "fd0b5f08",
   "metadata": {},
   "source": [
    "Q7.Can string data be stored in numpy arrays? If so, list at least one restriction that applies to this\n",
    "data.\n",
    "\n",
    "Yes it can be stored. "
   ]
  },
  {
   "cell_type": "code",
   "execution_count": 21,
   "id": "b6f477a4",
   "metadata": {},
   "outputs": [
    {
     "data": {
      "text/plain": [
       "array(['abc', 'def'], dtype='<U3')"
      ]
     },
     "execution_count": 21,
     "metadata": {},
     "output_type": "execute_result"
    }
   ],
   "source": [
    "a=np.array(['abc','def'])\n",
    "a"
   ]
  },
  {
   "cell_type": "code",
   "execution_count": 23,
   "id": "8c715a8d",
   "metadata": {},
   "outputs": [],
   "source": [
    "a[0]='ineuron'"
   ]
  },
  {
   "cell_type": "code",
   "execution_count": 24,
   "id": "80562f5d",
   "metadata": {},
   "outputs": [
    {
     "data": {
      "text/plain": [
       "array(['ine', 'def'], dtype='<U3')"
      ]
     },
     "execution_count": 24,
     "metadata": {},
     "output_type": "execute_result"
    }
   ],
   "source": [
    "a"
   ]
  }
 ],
 "metadata": {
  "kernelspec": {
   "display_name": "Python 3 (ipykernel)",
   "language": "python",
   "name": "python3"
  },
  "language_info": {
   "codemirror_mode": {
    "name": "ipython",
    "version": 3
   },
   "file_extension": ".py",
   "mimetype": "text/x-python",
   "name": "python",
   "nbconvert_exporter": "python",
   "pygments_lexer": "ipython3",
   "version": "3.9.7"
  }
 },
 "nbformat": 4,
 "nbformat_minor": 5
}
