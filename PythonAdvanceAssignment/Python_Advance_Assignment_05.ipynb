{
 "cells": [
  {
   "cell_type": "markdown",
   "id": "2aa30175",
   "metadata": {},
   "source": [
    "Q1.What is the meaning of multiple inheritance?\n",
    "\n",
    "In multiple inheritence feature of base classes are inherited into derived class."
   ]
  },
  {
   "cell_type": "code",
   "execution_count": 2,
   "id": "51343a8c",
   "metadata": {},
   "outputs": [],
   "source": [
    "#Multiple inheritence\n",
    "class base1:\n",
    "    pass\n",
    "class base2:\n",
    "    pass\n",
    "class derivedclass(base1,base2):\n",
    "    pass"
   ]
  },
  {
   "cell_type": "markdown",
   "id": "0fdad356",
   "metadata": {},
   "source": [
    "Q2.What is the concept of delegation?\n",
    "\n",
    "The delegation is an object-oriented design pattern that allows object composition to achieve the same code reuse as inheritance."
   ]
  },
  {
   "cell_type": "markdown",
   "id": "8d5f099e",
   "metadata": {},
   "source": [
    "Q3.What is the concept of composition?\n",
    "\n",
    "In composition one of the classes is composed of one or more instance of another classes."
   ]
  },
  {
   "cell_type": "markdown",
   "id": "1776e257",
   "metadata": {},
   "source": [
    "Q4.What are bound methods and how do we use them?\n",
    "\n",
    "Method having self(not necessary it has to be this particular word) as first argument inside a class is called bound method. It can be used by creating a instance of the that class."
   ]
  },
  {
   "cell_type": "code",
   "execution_count": 2,
   "id": "6a62cd11",
   "metadata": {},
   "outputs": [
    {
     "name": "stdout",
     "output_type": "stream",
     "text": [
      "It has 4 wheeel\n"
     ]
    }
   ],
   "source": [
    "class car:\n",
    "    def wheel(self):\n",
    "        print('It has 4 wheeel')  #here wheel is bound method\n",
    "\n",
    "car_obj=car()\n",
    "car_obj.wheel()"
   ]
  },
  {
   "cell_type": "markdown",
   "id": "e1cf294c",
   "metadata": {},
   "source": [
    "Q5.What is the purpose of pseudoprivate attributes?\n",
    "\n",
    "Python does not have a way to effectively restrict access to instance variables or methods. Python takes the view that we are all adult and should be allowed to use the code as we see fit."
   ]
  },
  {
   "cell_type": "code",
   "execution_count": null,
   "id": "cb849354",
   "metadata": {},
   "outputs": [],
   "source": []
  }
 ],
 "metadata": {
  "kernelspec": {
   "display_name": "Python 3 (ipykernel)",
   "language": "python",
   "name": "python3"
  },
  "language_info": {
   "codemirror_mode": {
    "name": "ipython",
    "version": 3
   },
   "file_extension": ".py",
   "mimetype": "text/x-python",
   "name": "python",
   "nbconvert_exporter": "python",
   "pygments_lexer": "ipython3",
   "version": "3.9.9"
  }
 },
 "nbformat": 4,
 "nbformat_minor": 5
}
