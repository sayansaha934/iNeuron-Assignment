{
 "cells": [
  {
   "cell_type": "markdown",
   "id": "a1f806f1",
   "metadata": {},
   "source": [
    "Q1.Describe the differences between text and binary files in a single paragraph.\n",
    "\n",
    "Binary files store data in a binary format and text file store data in a alphabet,numbers format. "
   ]
  },
  {
   "cell_type": "markdown",
   "id": "9a8f3f36",
   "metadata": {},
   "source": [
    "Q2.What are some scenarios where using text files will be the better option? When would you like to\n",
    "use binary files instead of text files?\n",
    "\n",
    "To store any .txt file text file will be better option whereas to store a JPEG image binary file is better option"
   ]
  },
  {
   "cell_type": "markdown",
   "id": "e92a0c0c",
   "metadata": {},
   "source": [
    "Q3.What are some of the issues with using binary operations to read and write a Python integer\n",
    "directly to disc?\n",
    "\n",
    "When we read or write a python integer using binary operations \n",
    "\n",
    "a)Binary operations deal with raw data\n",
    "\n",
    "b)one needs to identify how many bytes one would read or write."
   ]
  },
  {
   "cell_type": "markdown",
   "id": "a3d61735",
   "metadata": {},
   "source": [
    "Q4.Describe a benefit of using the with keyword instead of explicitly opening a file.\n",
    "\n",
    "Using with keyword, after opening file, file itself is closed."
   ]
  },
  {
   "cell_type": "markdown",
   "id": "ae78c4f7",
   "metadata": {},
   "source": [
    "Q5.Does Python have the trailing newline while reading a line of text? Does Python append a\n",
    "newline when you write a line of text?\n",
    "\n",
    " While reading a newline of text from atext file, python reads the newline also.\n",
    "While writing the python doesnt append a new line at end of line. It has to be handled explicitly."
   ]
  },
  {
   "cell_type": "markdown",
   "id": "a8d3f83c",
   "metadata": {},
   "source": [
    "Q6.What file operations enable for random-access operation?\n",
    "\n",
    "read()  and write()"
   ]
  },
  {
   "cell_type": "markdown",
   "id": "0752adc3",
   "metadata": {},
   "source": [
    "Q7.When do you think you'll use the struct package the most?\n",
    "\n",
    "It is used mostly for handling binary data stored in files "
   ]
  },
  {
   "cell_type": "markdown",
   "id": "0b536c74",
   "metadata": {},
   "source": [
    "Q8.When is pickling the best option?\n",
    "\n",
    "Pickle in Python is primarily used in serializing and deserializing a Python object structure. In other words, it's the process of converting a Python object into a byte stream to store it in a file/database"
   ]
  },
  {
   "cell_type": "markdown",
   "id": "03a120db",
   "metadata": {},
   "source": [
    "Q9.When will it be best to use the shelve package?\n",
    "\n",
    "The shelve module implements persistent storage for arbitrary Python objects which can be pickled, using a dictionary-like API."
   ]
  },
  {
   "cell_type": "markdown",
   "id": "e2dac634",
   "metadata": {},
   "source": [
    "Q10.What is a special restriction when using the shelve package, as opposed to using other data\n",
    "dictionaries?\n",
    "\n",
    "The shelf dictionary has certain restrictions. Only string data type can be used as key in this special dictionary object, whereas any picklable Python object can be used as value."
   ]
  }
 ],
 "metadata": {
  "kernelspec": {
   "display_name": "Python 3 (ipykernel)",
   "language": "python",
   "name": "python3"
  },
  "language_info": {
   "codemirror_mode": {
    "name": "ipython",
    "version": 3
   },
   "file_extension": ".py",
   "mimetype": "text/x-python",
   "name": "python",
   "nbconvert_exporter": "python",
   "pygments_lexer": "ipython3",
   "version": "3.9.9"
  }
 },
 "nbformat": 4,
 "nbformat_minor": 5
}
