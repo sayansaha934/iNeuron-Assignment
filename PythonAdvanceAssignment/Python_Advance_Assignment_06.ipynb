{
 "cells": [
  {
   "cell_type": "markdown",
   "id": "a44b76fe",
   "metadata": {},
   "source": [
    "Q1.Describe three applications for exception processing.\n",
    "\n",
    "Exception can be handled during run time error not compile time error."
   ]
  },
  {
   "cell_type": "code",
   "execution_count": 2,
   "id": "dba3210e",
   "metadata": {},
   "outputs": [
    {
     "name": "stdout",
     "output_type": "stream",
     "text": [
      "Enter number1: 6.6\n",
      "Enter number2: 0\n",
      "float division by zero\n"
     ]
    }
   ],
   "source": [
    "try:\n",
    "    a=float(input(\"Enter number1: \"))\n",
    "    b=float(input(\"Enter number2: \"))\n",
    "    print(\"Result: \",a/b)\n",
    "except Exception as e:\n",
    "    print(e)"
   ]
  },
  {
   "cell_type": "code",
   "execution_count": 3,
   "id": "fec0c22e",
   "metadata": {},
   "outputs": [
    {
     "name": "stdout",
     "output_type": "stream",
     "text": [
      "[Errno 2] No such file or directory: 'myfile.txt'\n"
     ]
    }
   ],
   "source": [
    "try:\n",
    "    with open('myfile.txt','r') as f:\n",
    "        print(f.read())\n",
    "except Exception as e:\n",
    "    print(e)"
   ]
  },
  {
   "cell_type": "code",
   "execution_count": 5,
   "id": "d377fb2e",
   "metadata": {},
   "outputs": [
    {
     "name": "stdout",
     "output_type": "stream",
     "text": [
      "can only concatenate str (not \"int\") to str\n"
     ]
    }
   ],
   "source": [
    "try:\n",
    "    a='ineuron'\n",
    "    b=2022\n",
    "    print(a+b)\n",
    "except Exception as e:\n",
    "    print(e)"
   ]
  },
  {
   "cell_type": "markdown",
   "id": "edf4f594",
   "metadata": {},
   "source": [
    "Q2.What happens if you don't do something extra to treat an exception?\n",
    "\n",
    "If we don't handle exception, exception will cause the interpreter to halt the execution of the code."
   ]
  },
  {
   "cell_type": "markdown",
   "id": "17ab1b22",
   "metadata": {},
   "source": [
    "Q3.What are your options for recovering from an exception in your script?\n",
    "\n",
    "We use try-except block, in except block we write the action if exception occurs."
   ]
  },
  {
   "cell_type": "markdown",
   "id": "cec85449",
   "metadata": {},
   "source": [
    "Q4.Describe two methods for triggering exceptions in your script.\n",
    "\n",
    "We use try and raise ."
   ]
  },
  {
   "cell_type": "code",
   "execution_count": 15,
   "id": "32b7b63c",
   "metadata": {},
   "outputs": [
    {
     "name": "stdout",
     "output_type": "stream",
     "text": [
      "it is name error\n"
     ]
    }
   ],
   "source": [
    "try:\n",
    "    raise NameError('it is name error')\n",
    "except Exception as e:\n",
    "    print(e)"
   ]
  },
  {
   "cell_type": "markdown",
   "id": "06c323f0",
   "metadata": {},
   "source": [
    "Q5.Identify two methods for specifying actions to be executed at termination time, regardless of\n",
    "whether or not an exception exists.\n",
    "\n",
    "else-if exception does not exist\n",
    "\n",
    "finally- regardless whether or not an exception exsists"
   ]
  },
  {
   "cell_type": "code",
   "execution_count": 16,
   "id": "5d944274",
   "metadata": {},
   "outputs": [
    {
     "name": "stdout",
     "output_type": "stream",
     "text": [
      "Enter number1: 5\n",
      "Enter number2: 10\n",
      "Result:  0.5\n",
      "it is else\n"
     ]
    }
   ],
   "source": [
    "try:\n",
    "    a=float(input(\"Enter number1: \"))\n",
    "    b=float(input(\"Enter number2: \"))\n",
    "    print(\"Result: \",a/b)\n",
    "except Exception as e:\n",
    "    print(e)\n",
    "else:\n",
    "    print('it is else')"
   ]
  },
  {
   "cell_type": "code",
   "execution_count": 17,
   "id": "d09ea96d",
   "metadata": {},
   "outputs": [
    {
     "name": "stdout",
     "output_type": "stream",
     "text": [
      "Enter number1: 8\n",
      "Enter number2: 0\n",
      "float division by zero\n",
      "it is finally\n"
     ]
    }
   ],
   "source": [
    "try:\n",
    "    a=float(input(\"Enter number1: \"))\n",
    "    b=float(input(\"Enter number2: \"))\n",
    "    print(\"Result: \",a/b)\n",
    "except Exception as e:\n",
    "    print(e)\n",
    "finally:\n",
    "    print('it is finally')"
   ]
  }
 ],
 "metadata": {
  "kernelspec": {
   "display_name": "Python 3 (ipykernel)",
   "language": "python",
   "name": "python3"
  },
  "language_info": {
   "codemirror_mode": {
    "name": "ipython",
    "version": 3
   },
   "file_extension": ".py",
   "mimetype": "text/x-python",
   "name": "python",
   "nbconvert_exporter": "python",
   "pygments_lexer": "ipython3",
   "version": "3.9.9"
  }
 },
 "nbformat": 4,
 "nbformat_minor": 5
}
