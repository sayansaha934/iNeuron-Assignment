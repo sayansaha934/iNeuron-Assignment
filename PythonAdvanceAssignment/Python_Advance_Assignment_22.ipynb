{
 "cells": [
  {
   "cell_type": "markdown",
   "id": "d3a7dbde",
   "metadata": {},
   "source": [
    "Q1.What are the benefits of the built-in array package, if any?\n",
    "\n",
    "Arrays represent multiple data items of the same type using a single name.\n",
    "\n",
    "In arrays, the elements can be accessed randomly by using the index number.\n",
    "\n",
    "Arrays allocate memory in contiguous memory locations for all its elements. Hence there is no chance of extra memory being \n",
    "allocated in case of arrays. This avoids memory overflow or shortage of memory in arrays.\n"
   ]
  },
  {
   "cell_type": "markdown",
   "id": "c89b01ad",
   "metadata": {},
   "source": [
    "Q2.What are some of the array package's limitations?\n",
    "\n",
    "An array which is formed will be homogeneous. That is, in an integer array only integer values can be stored, while in a float array only floating value and character array can have only characters. Thus, no array can have values of two data types.\n",
    "\n",
    "While declaring an array, passing size of an array is compulsory, and the size must be a constant. Thus, there is either shortage or wastage of memory.\n",
    "\n",
    "Shifting is required for insertion or deletion of elements in an array.\n"
   ]
  },
  {
   "cell_type": "markdown",
   "id": "deda87a7",
   "metadata": {},
   "source": [
    "Q3.Describe the main differences between the array and numpy packages.\n",
    "\n",
    "The array package doesn't provide any help with numerical calculation with the items insdie it in number form \n",
    "while NumPy give you a wide variety of numerical operations. An array is a single dimensional entity which hold\n",
    "the numerical data, while numpy can have more than 1 dimension.In case of array, item can be accessed by its\n",
    "index position and it is easy task while in numpy item is accessed by its column and row index, which makes \n",
    "it slightly time taking. Same goes with appending operation.In case of array we do not form a tabular \n",
    "structure, while in numpy it forms a tabular structure."
   ]
  },
  {
   "cell_type": "markdown",
   "id": "b23a9c2c",
   "metadata": {},
   "source": [
    "Q4.Explain the distinctions between the empty, ones, and zeros functions.\n",
    "\n",
    "empty - Return a new array of given shape and type, without initializing entries.\n",
    "\n",
    "ones - Return a new array of given shape and type, filled with ones.\n",
    "\n",
    "zeroes - Return a new array of given shape and type, filled with zeros.\n"
   ]
  },
  {
   "cell_type": "markdown",
   "id": "4925527d",
   "metadata": {},
   "source": [
    "Q5.In the fromfunction function, which is used to construct new arrays, what is the role of the callable\n",
    "argument?\n",
    "\n",
    "Its function is to execute the function over each coordinate and the resulting array. The function is called\n",
    "with N parameters, where N is the rank of shape. Each parameter represents the coordinates of the array \n",
    "varying along a specific axis."
   ]
  },
  {
   "cell_type": "markdown",
   "id": "1c88d8e6",
   "metadata": {},
   "source": [
    "Q6.What happens when a numpy array is combined with a single-value operand (a scalar, such as\n",
    "an int or a floating-point value) through addition, as in the expression A + n?\n",
    "\n",
    "It will be added with every element of the array"
   ]
  },
  {
   "cell_type": "markdown",
   "id": "8472dd5c",
   "metadata": {},
   "source": [
    "Q7.Can array-to-scalar operations use combined operation-assign operators (such as += or *=)?\n",
    "What is the outcome?\n",
    "\n",
    "It will do the operation as per operators. Like if we use + operand it will update the current array by adding \n",
    "and when we use '*', it will update by multiplying."
   ]
  },
  {
   "cell_type": "markdown",
   "id": "89b06467",
   "metadata": {},
   "source": [
    "Q8.Does a numpy array contain fixed-length strings? What happens if you allocate a longer string to\n",
    "one of these arrays?"
   ]
  },
  {
   "cell_type": "code",
   "execution_count": 18,
   "id": "2cddcac4",
   "metadata": {},
   "outputs": [
    {
     "data": {
      "text/plain": [
       "array(['ram', 'mohan', 'shiva'], dtype='<U5')"
      ]
     },
     "execution_count": 18,
     "metadata": {},
     "output_type": "execute_result"
    }
   ],
   "source": [
    "# Yes it is possible that we can include a string of fixed length in numpy array. The dtype of any numpy array \n",
    "#       containing string values is the maximum length of any string present in the array.\n",
    "#       Once set, it will only be able to store new string having length not more than the maximum length at the time \n",
    "#       of the creation. If we try to reassign some another string value having length greater than the maximum length\n",
    "#       of the existing elements, it simply discards all the values beyond the maximum length accept upto those values \n",
    "#       which are under the limit.\n",
    "import numpy as np\n",
    "name = np.array(['ram', 'mohan', 'shiva'])\n",
    "name"
   ]
  },
  {
   "cell_type": "code",
   "execution_count": 19,
   "id": "5eb081a8",
   "metadata": {},
   "outputs": [
    {
     "name": "stdout",
     "output_type": "stream",
     "text": [
      "['under' 'mohan' 'shiva']\n"
     ]
    }
   ],
   "source": [
    "name[name=='ram']='undertaker'\n",
    "print(name)"
   ]
  },
  {
   "cell_type": "markdown",
   "id": "653c6590",
   "metadata": {},
   "source": [
    "Q9.What happens when you combine two numpy arrays using an operation like addition (+) or\n",
    "multiplication (*)? What are the conditions for combining two numpy arrays?\n",
    "\n",
    "It will perform element wise operation, condition is no. of column of the first array should be equal to no. of row of the second array."
   ]
  },
  {
   "cell_type": "markdown",
   "id": "49c0cd8b",
   "metadata": {},
   "source": [
    "Q10.What is the best way to use a Boolean array to mask another array?"
   ]
  },
  {
   "cell_type": "code",
   "execution_count": 21,
   "id": "61e5df94",
   "metadata": {},
   "outputs": [
    {
     "name": "stdout",
     "output_type": "stream",
     "text": [
      "[True, True, masked, masked]\n",
      "1\n"
     ]
    }
   ],
   "source": [
    "y = np.array([True,True,False,True])          \n",
    "x = np.array([1,2,3,4])         \n",
    "m = np.ma.masked_where(x>2,y)  \n",
    "print(list(m))\n",
    "print(m.ndim)"
   ]
  },
  {
   "cell_type": "markdown",
   "id": "69511f6a",
   "metadata": {},
   "source": [
    "Q11.What are three different ways to get the standard deviation of a wide collection of data using\n",
    "both standard Python and its packages? Sort the three of them by how quickly they execute."
   ]
  },
  {
   "cell_type": "code",
   "execution_count": 26,
   "id": "e7077e4a",
   "metadata": {},
   "outputs": [
    {
     "data": {
      "text/plain": [
       "0.5"
      ]
     },
     "execution_count": 26,
     "metadata": {},
     "output_type": "execute_result"
    }
   ],
   "source": [
    "# 1)Using math module :\n",
    "x=[1,2]\n",
    "import math\n",
    "avg=(x[0]+x[1])/2\n",
    "N=len(x)\n",
    "SD=math.sqrt(((1-avg)**2+(2-avg)**2)/N)\n",
    "SD"
   ]
  },
  {
   "cell_type": "code",
   "execution_count": 24,
   "id": "2077d8d3",
   "metadata": {},
   "outputs": [
    {
     "data": {
      "text/plain": [
       "0.5"
      ]
     },
     "execution_count": 24,
     "metadata": {},
     "output_type": "execute_result"
    }
   ],
   "source": [
    "#2)Using Numpy Array package\n",
    "import numpy as np\n",
    "SD=np.std(x)\n",
    "SD"
   ]
  },
  {
   "cell_type": "code",
   "execution_count": 30,
   "id": "fd8d5343",
   "metadata": {},
   "outputs": [
    {
     "data": {
      "text/plain": [
       "0.5"
      ]
     },
     "execution_count": 30,
     "metadata": {},
     "output_type": "execute_result"
    }
   ],
   "source": [
    "#3) General calculation without using any package\n",
    "SD= (((1-avg)**2+(2-avg)**2)/N)**0.5\n",
    "SD"
   ]
  }
 ],
 "metadata": {
  "kernelspec": {
   "display_name": "Python 3 (ipykernel)",
   "language": "python",
   "name": "python3"
  },
  "language_info": {
   "codemirror_mode": {
    "name": "ipython",
    "version": 3
   },
   "file_extension": ".py",
   "mimetype": "text/x-python",
   "name": "python",
   "nbconvert_exporter": "python",
   "pygments_lexer": "ipython3",
   "version": "3.9.7"
  }
 },
 "nbformat": 4,
 "nbformat_minor": 5
}
