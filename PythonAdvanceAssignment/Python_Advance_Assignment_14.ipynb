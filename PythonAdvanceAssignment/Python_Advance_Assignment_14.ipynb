{
 "cells": [
  {
   "cell_type": "markdown",
   "id": "a86ed9bf",
   "metadata": {},
   "source": [
    "Q1.Is an assignment operator like += only for show? Is it possible that it would lead to faster results\n",
    "at the runtime?\n",
    "\n",
    "+= is faster and easy to write, runtime of a+=2 is less than a=a+2."
   ]
  },
  {
   "cell_type": "markdown",
   "id": "78a92864",
   "metadata": {},
   "source": [
    "Q2.What is the smallest number of statements you'd have to write in most programming languages to\n",
    "replace the Python expression a, b = a + b, a?\n",
    "\n",
    "Two"
   ]
  },
  {
   "cell_type": "markdown",
   "id": "bb9f1397",
   "metadata": {},
   "source": [
    "Q3.In Python, what is the most effective way to set a list of 100 integers to 0?"
   ]
  },
  {
   "cell_type": "code",
   "execution_count": 14,
   "id": "44a4cd98",
   "metadata": {},
   "outputs": [
    {
     "name": "stdout",
     "output_type": "stream",
     "text": [
      "[0, 0, 0, 0, 0, 0, 0, 0, 0, 0, 0, 0, 0, 0, 0, 0, 0, 0, 0, 0, 0, 0, 0, 0, 0, 0, 0, 0, 0, 0, 0, 0, 0, 0, 0, 0, 0, 0, 0, 0, 0, 0, 0, 0, 0, 0, 0, 0, 0, 0, 0, 0, 0, 0, 0, 0, 0, 0, 0, 0, 0, 0, 0, 0, 0, 0, 0, 0, 0, 0, 0, 0, 0, 0, 0, 0, 0, 0, 0, 0, 0, 0, 0, 0, 0, 0, 0, 0, 0, 0, 0, 0, 0, 0, 0, 0, 0, 0, 0, 0]\n"
     ]
    }
   ],
   "source": [
    "l=[0]*100\n",
    "print(l)"
   ]
  },
  {
   "cell_type": "code",
   "execution_count": null,
   "id": "34024054",
   "metadata": {},
   "outputs": [],
   "source": [
    "for i in range(100)"
   ]
  },
  {
   "cell_type": "markdown",
   "id": "c1efeb08",
   "metadata": {},
   "source": [
    "Q4.What is the most effective way to initialise a list of 99 integers that repeats the sequence 1, 2, 3?\n",
    "S If necessary, show step-by-step instructions on how to accomplish this."
   ]
  },
  {
   "cell_type": "code",
   "execution_count": 3,
   "id": "fa7357d2",
   "metadata": {},
   "outputs": [
    {
     "name": "stdout",
     "output_type": "stream",
     "text": [
      "[1, 2, 3, 1, 2, 3, 1, 2, 3, 1, 2, 3, 1, 2, 3, 1, 2, 3, 1, 2, 3, 1, 2, 3, 1, 2, 3, 1, 2, 3, 1, 2, 3, 1, 2, 3, 1, 2, 3, 1, 2, 3, 1, 2, 3, 1, 2, 3, 1, 2, 3, 1, 2, 3, 1, 2, 3, 1, 2, 3, 1, 2, 3, 1, 2, 3, 1, 2, 3, 1, 2, 3, 1, 2, 3, 1, 2, 3, 1, 2, 3, 1, 2, 3, 1, 2, 3, 1, 2, 3, 1, 2, 3, 1, 2, 3, 1, 2, 3]\n"
     ]
    }
   ],
   "source": [
    "print([1,2,3]*33)"
   ]
  },
  {
   "cell_type": "markdown",
   "id": "9488724c",
   "metadata": {},
   "source": [
    "Q5.If you're using IDLE to run a Python application, explain how to print a multidimensional list as\n",
    "efficiently?\n",
    "\n",
    "We can print just by calling its name"
   ]
  },
  {
   "cell_type": "code",
   "execution_count": 16,
   "id": "ae40eb45",
   "metadata": {},
   "outputs": [
    {
     "data": {
      "text/plain": [
       "[[1, 2, 3, 4], ['A', 'B'], [5, 6, 7, 8]]"
      ]
     },
     "execution_count": 16,
     "metadata": {},
     "output_type": "execute_result"
    }
   ],
   "source": [
    "l = [[1,2,3,4],['A','B'],[5,6,7,8]]\n",
    "l"
   ]
  },
  {
   "cell_type": "markdown",
   "id": "c149fb0a",
   "metadata": {},
   "source": [
    "Q6.Is it possible to use list comprehension with a string? If so, how can you go about doing it?"
   ]
  },
  {
   "cell_type": "code",
   "execution_count": 9,
   "id": "8dfcef04",
   "metadata": {},
   "outputs": [
    {
     "data": {
      "text/plain": [
       "['i', 'n', 'e', 'u', 'r', 'o', 'n']"
      ]
     },
     "execution_count": 9,
     "metadata": {},
     "output_type": "execute_result"
    }
   ],
   "source": [
    "[i for i in 'ineuron']"
   ]
  },
  {
   "cell_type": "markdown",
   "id": "5c4bee4a",
   "metadata": {},
   "source": [
    "Q7.From the command line, how do you get support with a user-written Python programme? Is this possible from inside IDLE?\n",
    "\n",
    "Steps for command line:\n",
    "\n",
    "    1. Open command prompt.\n",
    "    2. Go to the directory containing python program file(.py)\n",
    "    3. Type \"python file_name.py\", press enter to run the file.\n",
    "\n",
    "Steps for python IDLE:\n",
    "\n",
    "    1. Open python IDLE.\n",
    "    2. Click on file>open>file_name.py\n",
    "    3. Press F5 key to run the program."
   ]
  },
  {
   "cell_type": "markdown",
   "id": "b534af48",
   "metadata": {},
   "source": [
    "Q8.Functions are said to be “first-class objects” in Python but not in most other languages, such as\n",
    "C++ or Java. What can you do in Python with a function (callable object) that you can't do in C or C++?\n",
    "\n",
    "In Python, functions are like any other object, such as an int or a list. That means that you can use functions as arguments to other functions, store functions as dictionary values, or return a function from another function. This leads to many powerful ways to use functions."
   ]
  },
  {
   "cell_type": "markdown",
   "id": "8e9ef8ae",
   "metadata": {},
   "source": [
    "Q9.How do you distinguish between a wrapper, a wrapped feature, and a decorator?\n",
    "\n",
    "A wrapper, a wrapped feature, and a decorator are all same. They can be thought of as functions which modify the functionality of another function. They help to make your code shorter and more \"Pythonic\"."
   ]
  },
  {
   "cell_type": "markdown",
   "id": "9085fc6f",
   "metadata": {},
   "source": [
    "Q10.If a function is a generator function, what does it return?\n",
    "\n",
    "It will return generator object"
   ]
  },
  {
   "cell_type": "code",
   "execution_count": 13,
   "id": "8cab9efd",
   "metadata": {},
   "outputs": [
    {
     "data": {
      "text/plain": [
       "<generator object test at 0x0000019CA3EDC040>"
      ]
     },
     "execution_count": 13,
     "metadata": {},
     "output_type": "execute_result"
    }
   ],
   "source": [
    "def test(n):\n",
    "    for i in range(n):\n",
    "        yield i\n",
    "test(6)"
   ]
  },
  {
   "cell_type": "markdown",
   "id": "353dfb41",
   "metadata": {},
   "source": [
    "Q11.What is the one improvement that must be made to a function in order for it to become a\n",
    "generator function in the Python language?\n",
    "\n",
    "we have to use yield statement rather return"
   ]
  },
  {
   "cell_type": "markdown",
   "id": "37cc85e7",
   "metadata": {},
   "source": [
    "Q12.Identify at least one benefit of generators\n",
    "\n",
    "Generator functions allow you to declare a function that behaves like an iterator."
   ]
  }
 ],
 "metadata": {
  "kernelspec": {
   "display_name": "Python 3 (ipykernel)",
   "language": "python",
   "name": "python3"
  },
  "language_info": {
   "codemirror_mode": {
    "name": "ipython",
    "version": 3
   },
   "file_extension": ".py",
   "mimetype": "text/x-python",
   "name": "python",
   "nbconvert_exporter": "python",
   "pygments_lexer": "ipython3",
   "version": "3.9.9"
  }
 },
 "nbformat": 4,
 "nbformat_minor": 5
}
