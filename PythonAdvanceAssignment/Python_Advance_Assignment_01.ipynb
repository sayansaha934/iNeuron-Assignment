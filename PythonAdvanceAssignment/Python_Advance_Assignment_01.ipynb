{
 "cells": [
  {
   "cell_type": "markdown",
   "id": "c90c7521",
   "metadata": {},
   "source": [
    "Q1.What is the purpose of Python's OOP?\n",
    "\n",
    "The code can be used multiple times just by creating object."
   ]
  },
  {
   "cell_type": "markdown",
   "id": "c613da0e",
   "metadata": {},
   "source": [
    "Q2.Where does an inheritance search look for an attribute?\n",
    "\n",
    "The inheritence search happens in bottom up fashion. It starts from object.attr and search all the way upto the parent class to find the first occurence of the attribute."
   ]
  },
  {
   "cell_type": "markdown",
   "id": "7cecf696",
   "metadata": {},
   "source": [
    "Q3.How do you distinguish between a class object and an instance object?"
   ]
  },
  {
   "cell_type": "code",
   "execution_count": 53,
   "id": "e00234a1",
   "metadata": {},
   "outputs": [],
   "source": [
    "class msg:\n",
    "    a=5\n",
    "    def __init__(self,b):\n",
    "        self.b=b"
   ]
  },
  {
   "cell_type": "code",
   "execution_count": 56,
   "id": "5ef17933",
   "metadata": {},
   "outputs": [
    {
     "data": {
      "text/plain": [
       "5"
      ]
     },
     "execution_count": 56,
     "metadata": {},
     "output_type": "execute_result"
    }
   ],
   "source": [
    "#class object\n",
    "msg.a"
   ]
  },
  {
   "cell_type": "code",
   "execution_count": 60,
   "id": "3b295c54",
   "metadata": {},
   "outputs": [
    {
     "data": {
      "text/plain": [
       "10"
      ]
     },
     "execution_count": 60,
     "metadata": {},
     "output_type": "execute_result"
    }
   ],
   "source": [
    "#instance object\n",
    "obj=msg(10)\n",
    "obj.b"
   ]
  },
  {
   "cell_type": "markdown",
   "id": "f4b9ced6",
   "metadata": {},
   "source": [
    "Q4.What makes the first argument in a class’s method function special?\n",
    "\n",
    "a pointer(self)"
   ]
  },
  {
   "cell_type": "markdown",
   "id": "f32dff36",
   "metadata": {},
   "source": [
    "Q5.What is the purpose of the __init__ method?\n",
    "\n",
    "__init__ represents constructor in python, it initializes the state of the object."
   ]
  },
  {
   "cell_type": "markdown",
   "id": "d8c3fca7",
   "metadata": {},
   "source": [
    "Q6.What is the process for creating a class instance?\n",
    "\n",
    "name_of_instance=class_name(arguments)"
   ]
  },
  {
   "cell_type": "code",
   "execution_count": 61,
   "id": "9e4d0054",
   "metadata": {},
   "outputs": [],
   "source": [
    "# Q7.What is the process for creating a class?\n",
    "\n",
    "class myclass:\n",
    "    def __init__(self,a):\n",
    "        self.a=a\n",
    "    def test(self):\n",
    "        print(self.a)\n",
    "    "
   ]
  },
  {
   "cell_type": "code",
   "execution_count": 34,
   "id": "76bd4288",
   "metadata": {},
   "outputs": [
    {
     "name": "stdout",
     "output_type": "stream",
     "text": [
      "myclass1\n",
      "myclass2\n",
      "myclass3\n"
     ]
    }
   ],
   "source": [
    "# Q8.How would you define the superclasses of a class?\n",
    "\n",
    "class myclass1:\n",
    "    def __init__(self):\n",
    "        print('myclass1')\n",
    "class myclass2(myclass1):\n",
    "    def __init__(self):\n",
    "        super().__init__()\n",
    "        print('myclass2')\n",
    "class myclass3(myclass2):\n",
    "    def __init__(self):\n",
    "        super().__init__()\n",
    "        print('myclass3')\n",
    "        \n",
    "obj=myclass3()"
   ]
  }
 ],
 "metadata": {
  "kernelspec": {
   "display_name": "Python 3 (ipykernel)",
   "language": "python",
   "name": "python3"
  },
  "language_info": {
   "codemirror_mode": {
    "name": "ipython",
    "version": 3
   },
   "file_extension": ".py",
   "mimetype": "text/x-python",
   "name": "python",
   "nbconvert_exporter": "python",
   "pygments_lexer": "ipython3",
   "version": "3.9.9"
  }
 },
 "nbformat": 4,
 "nbformat_minor": 5
}
