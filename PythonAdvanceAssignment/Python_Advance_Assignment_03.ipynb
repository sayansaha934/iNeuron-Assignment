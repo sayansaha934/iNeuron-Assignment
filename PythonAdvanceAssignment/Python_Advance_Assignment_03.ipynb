{
 "cells": [
  {
   "cell_type": "markdown",
   "id": "23cbf411",
   "metadata": {},
   "source": [
    "1.What is the concept of an abstract superclass?"
   ]
  },
  {
   "cell_type": "code",
   "execution_count": 117,
   "id": "580b6356",
   "metadata": {},
   "outputs": [
    {
     "name": "stdout",
     "output_type": "stream",
     "text": [
      "start\n",
      "stop\n",
      "drive\n"
     ]
    }
   ],
   "source": [
    "from abc import abstractmethod\n",
    "\n",
    "class abstractvehicle:\n",
    "    @abstractmethod\n",
    "    def start():\n",
    "        '''start'''\n",
    "    @abstractmethod\n",
    "    def stop():\n",
    "        '''stop'''\n",
    "    @abstractmethod\n",
    "    def drive():\n",
    "        '''drive'''\n",
    "        \n",
    "class car(abstractvehicle):\n",
    "    def start(self):\n",
    "        print('start')\n",
    "    def stop(self):\n",
    "        print('stop')\n",
    "    def drive(self):\n",
    "        print('drive')\n",
    "\n",
    "carobj=car()\n",
    "carobj.start()\n",
    "carobj.stop()\n",
    "carobj.drive()"
   ]
  },
  {
   "cell_type": "markdown",
   "id": "13764d2f",
   "metadata": {},
   "source": [
    "i.Abstruct superclass can be used as a blueprint\n",
    "\n",
    "ii.object can not be created from abstract super class.\n",
    "\n",
    "iii.In abstract super class we only define a method without implementetion.\n",
    "\n",
    "iv.We can have a one or more sub classes that inherit from a abstruct super class.\n",
    "\n",
    "Here abstructvehicle is a abstruct super class."
   ]
  },
  {
   "cell_type": "markdown",
   "id": "07ded18c",
   "metadata": {},
   "source": [
    "2.What happens when a class statement's top level contains a basic assignment statement?\n",
    "\n",
    "Then it will be class attribute."
   ]
  },
  {
   "cell_type": "markdown",
   "id": "b898bf1e",
   "metadata": {},
   "source": [
    "3.Why does a class need to manually call a superclass's __init__ method?\n",
    "\n",
    "So that we can access the attributes of superclass(parent class) in child class."
   ]
  },
  {
   "cell_type": "markdown",
   "id": "d0ef0e45",
   "metadata": {},
   "source": [
    "4.How can you augment, instead of completely replacing, an inherited method?\n",
    "\n",
    "The good way to do in python is by calling to the original version directly with augmented arguments."
   ]
  },
  {
   "cell_type": "markdown",
   "id": "cf348d1a",
   "metadata": {},
   "source": [
    "5.How is the local scope of a class different from that of a function?\n",
    "\n",
    "In class if a variable is declared inside a function then it is only accessible inside that function like local variable. If a variable is declared inside constructer like self.variable_name=value then it can be accessed in every function. If a variable is declared inside a class(not inside any function) then it can be accessed by class name."
   ]
  }
 ],
 "metadata": {
  "kernelspec": {
   "display_name": "Python 3 (ipykernel)",
   "language": "python",
   "name": "python3"
  },
  "language_info": {
   "codemirror_mode": {
    "name": "ipython",
    "version": 3
   },
   "file_extension": ".py",
   "mimetype": "text/x-python",
   "name": "python",
   "nbconvert_exporter": "python",
   "pygments_lexer": "ipython3",
   "version": "3.9.9"
  }
 },
 "nbformat": 4,
 "nbformat_minor": 5
}
