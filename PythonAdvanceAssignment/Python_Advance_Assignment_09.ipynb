{
 "cells": [
  {
   "cell_type": "markdown",
   "id": "d0e0d2ea",
   "metadata": {},
   "source": [
    "Q1.In Python 3.X, what are the names and functions of string object types?\n",
    "\n",
    "In Python 3.X and later, String objects has bulit in class named as \"str\" and it is used to store characters in memory in encoded format."
   ]
  },
  {
   "cell_type": "markdown",
   "id": "69c808b9",
   "metadata": {},
   "source": [
    "Q2.How do the string forms in Python 3.X vary in terms of operations?\n",
    "\n",
    "Python supports ASCII as a subset of Unicode. The default encoding of characters in Python is UTF-8 (Unicode Transformation Format - 8-bit).ASCII is really a 7-bit character set; it is mapped to 8-bit bytes by setting the high bit to zero. Thus, ASCII characters are unchanged in UTF-8. A non-zero high bit indicates that a character composed of multiple bytes."
   ]
  },
  {
   "cell_type": "markdown",
   "id": "15a7277a",
   "metadata": {},
   "source": [
    "Q3.In 3.X, how do you put non-ASCII Unicode characters in a string?\n",
    "\n",
    "As we know, there are only 127 ASCII characters in ascii table. It stores symbols, letters, whitespace characters, non printable characters, which are very less. So Python 3 has adopted unicode encoding of strings. for non ASCII u can get any value more than 127."
   ]
  },
  {
   "cell_type": "code",
   "execution_count": 35,
   "id": "b8b9c769",
   "metadata": {},
   "outputs": [
    {
     "name": "stdout",
     "output_type": "stream",
     "text": [
      "sayanµ\n"
     ]
    }
   ],
   "source": [
    "s='sayan'\n",
    "s=s+chr(181)+chr(128)\n",
    "print(s)"
   ]
  },
  {
   "cell_type": "markdown",
   "id": "10a7333c",
   "metadata": {},
   "source": [
    "Q4.In Python 3.X, what are the key differences between text-mode and binary-mode files?\n",
    "\n",
    "In text mode a file is interpreted as a sequence of characters while in binary mode data is interpreted as raw binary values usually bytes."
   ]
  },
  {
   "cell_type": "markdown",
   "id": "3cf5f1b0",
   "metadata": {},
   "source": [
    "Q5.How can you interpret a Unicode text file containing text encoded in a different encoding than your platform's default?\n",
    "\n",
    "While reading file, we can specify the encoding, so the file will be decoded according to that encoding and results are returned to the user."
   ]
  },
  {
   "cell_type": "code",
   "execution_count": 33,
   "id": "798eee78",
   "metadata": {},
   "outputs": [
    {
     "name": "stdout",
     "output_type": "stream",
     "text": [
      "আমার নাম সায়ান সাহা\n"
     ]
    }
   ],
   "source": [
    "text='আমার নাম সায়ান সাহা'\n",
    "with open('sample.txt','w', encoding='utf16') as f:\n",
    "    f.write(text)\n",
    "with open('sample.txt','r', encoding='utf16') as f:\n",
    "    print(f.read())"
   ]
  },
  {
   "cell_type": "markdown",
   "id": "44558704",
   "metadata": {},
   "source": [
    "Q6.What is the best way to make a Unicode text file in a particular encoding format?\n",
    "\n",
    "specify the encoding during writing or reading the file."
   ]
  },
  {
   "cell_type": "code",
   "execution_count": 32,
   "id": "d26ea3ed",
   "metadata": {},
   "outputs": [
    {
     "name": "stdout",
     "output_type": "stream",
     "text": [
      "আমার নাম সায়ান সাহা\n"
     ]
    }
   ],
   "source": [
    "text='আমার নাম সায়ান সাহা'\n",
    "with open('test1.txt','w', encoding='utf16') as f:\n",
    "    f.write(text)\n",
    "with open('test1.txt','r', encoding='utf16') as f:\n",
    "    print(f.read())"
   ]
  },
  {
   "cell_type": "markdown",
   "id": "3f385abb",
   "metadata": {},
   "source": [
    "Q7.What qualifies ASCII text as a form of Unicode text?\n",
    "\n",
    "The first 128 Unicode code points represent the equivalent ASCII characters. They have the same meaning in both ASCII and unicode. Since UTF-8 encodes each of these characters with a single byte, any ASCII text is also a UTF-8 text. Unicode is a superset of ASCII."
   ]
  },
  {
   "cell_type": "markdown",
   "id": "7deb6bbc",
   "metadata": {},
   "source": [
    "Q8.How much of an effect does the change in string types in Python 3.X have on your code?\n",
    "\n",
    "In Python 3.X and later, there is only one string type that is unicode. So no effect on the code."
   ]
  }
 ],
 "metadata": {
  "kernelspec": {
   "display_name": "Python 3 (ipykernel)",
   "language": "python",
   "name": "python3"
  },
  "language_info": {
   "codemirror_mode": {
    "name": "ipython",
    "version": 3
   },
   "file_extension": ".py",
   "mimetype": "text/x-python",
   "name": "python",
   "nbconvert_exporter": "python",
   "pygments_lexer": "ipython3",
   "version": "3.9.9"
  }
 },
 "nbformat": 4,
 "nbformat_minor": 5
}
