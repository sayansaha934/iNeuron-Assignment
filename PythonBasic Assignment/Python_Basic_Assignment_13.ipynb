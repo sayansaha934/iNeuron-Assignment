{
 "cells": [
  {
   "cell_type": "markdown",
   "id": "ff26283c",
   "metadata": {},
   "source": [
    "1.What advantages do Excel spreadsheets have over CSV spreadsheets?\n",
    "\n",
    "Reading large dataset is much easier in excel compared to csv,   Excel provides the option for linking the data from external sources but no such feature available in csv."
   ]
  },
  {
   "cell_type": "markdown",
   "id": "7bfdbdf6",
   "metadata": {},
   "source": [
    "2.What do you pass to csv.reader() and csv.writer() to create reader and writer objects?\n",
    "\n",
    "file object"
   ]
  },
  {
   "cell_type": "markdown",
   "id": "fde5fbfc",
   "metadata": {},
   "source": [
    "3.What modes do File objects for reader and writer objects need to be opened in?\n",
    "\n",
    "'r'(read mode) for reader objects and 'w'(write mode) for writer objects"
   ]
  },
  {
   "cell_type": "markdown",
   "id": "fb40f6e6",
   "metadata": {},
   "source": [
    "4.What method takes a list argument and writes it to a CSV file?\n",
    "\n",
    "writerow() method of csv.writer()"
   ]
  },
  {
   "cell_type": "markdown",
   "id": "b46c8933",
   "metadata": {},
   "source": [
    "5.What do the keyword arguments delimiter and line terminator do?\n",
    "\n",
    "delimiter sets the character between cells on a row.   line terminator sets the character that comes at the end of a row."
   ]
  },
  {
   "cell_type": "markdown",
   "id": "43182b78",
   "metadata": {},
   "source": [
    "6.What function takes a string of JSON data and returns a Python data structure?\n",
    "\n",
    "json.loads()"
   ]
  },
  {
   "cell_type": "markdown",
   "id": "1cbddf95",
   "metadata": {},
   "source": [
    "7.What function takes a Python data structure and returns a string of JSON data?\n",
    "\n",
    "json.dumps()"
   ]
  }
 ],
 "metadata": {
  "kernelspec": {
   "display_name": "Python 3 (ipykernel)",
   "language": "python",
   "name": "python3"
  },
  "language_info": {
   "codemirror_mode": {
    "name": "ipython",
    "version": 3
   },
   "file_extension": ".py",
   "mimetype": "text/x-python",
   "name": "python",
   "nbconvert_exporter": "python",
   "pygments_lexer": "ipython3",
   "version": "3.9.9"
  }
 },
 "nbformat": 4,
 "nbformat_minor": 5
}
