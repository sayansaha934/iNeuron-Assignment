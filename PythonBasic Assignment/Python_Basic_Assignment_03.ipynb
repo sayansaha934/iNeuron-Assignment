{
 "cells": [
  {
   "cell_type": "markdown",
   "id": "68119d1c",
   "metadata": {},
   "source": [
    "1.Why are functions advantageous to have in your programs?\n",
    "\n",
    "Function enable reuse of code, improve maintainability"
   ]
  },
  {
   "cell_type": "markdown",
   "id": "ec91a6b3",
   "metadata": {},
   "source": [
    "2.When does the code in a function run: when it's specified or when it's called?\n",
    "\n",
    "when it's called"
   ]
  },
  {
   "cell_type": "markdown",
   "id": "6362e434",
   "metadata": {},
   "source": [
    "3.What statement creates a function?\n",
    "\n",
    "\"def\""
   ]
  },
  {
   "cell_type": "markdown",
   "id": "360fff37",
   "metadata": {},
   "source": [
    "4.What is the difference between a function and a function call?\n",
    "\n",
    "Function is a piece of code which enhance reusability and modularity and does nothing until it is called. Function call means we tell interpreter to run the code inside function."
   ]
  },
  {
   "cell_type": "markdown",
   "id": "3d6378d2",
   "metadata": {},
   "source": [
    "5.How many global scopes are there in a Python program? How many local scopes?\n",
    "\n",
    "There is one global scope in python and  local scope is created whenever function is called. "
   ]
  },
  {
   "cell_type": "markdown",
   "id": "2c176c9d",
   "metadata": {},
   "source": [
    "6.What happens to variables in a local scope when the function call returns?\n",
    "\n",
    "when function call returns, local variables are destroyed."
   ]
  },
  {
   "cell_type": "markdown",
   "id": "b7f5559b",
   "metadata": {},
   "source": [
    "7.What is the concept of a return value? Is it possible to have a return value in an expression?\n",
    "\n",
    "A return statement is used to end the execution of a function call and returns result. Yes, it is possible to have a return value in an expression  "
   ]
  },
  {
   "cell_type": "markdown",
   "id": "2075dfa9",
   "metadata": {},
   "source": [
    "8.If a function does not have a return statement, what is the return value of a call to that function?\n",
    "\n",
    "None will be returned"
   ]
  },
  {
   "cell_type": "markdown",
   "id": "5c8dbb5b",
   "metadata": {},
   "source": [
    "9.How do you make a function variable refer to the global variable?\n",
    "\n",
    "Using 'global' keyword before the variable name at start of the function"
   ]
  },
  {
   "cell_type": "markdown",
   "id": "c36163ec",
   "metadata": {},
   "source": [
    "10.What is the data type of None?\n",
    "\n",
    "None Type"
   ]
  },
  {
   "cell_type": "markdown",
   "id": "8066e555",
   "metadata": {},
   "source": [
    "11.What does the sentence import areallyourpetsnamederic do?\n",
    "\n",
    "imports a module named  areallyourpetsnamederic"
   ]
  },
  {
   "cell_type": "markdown",
   "id": "8f4fd560",
   "metadata": {},
   "source": [
    "12.If you had a bacon() feature in a spam module, what would you call it after importing spam?\n",
    "\n",
    "spam.bacon()"
   ]
  },
  {
   "cell_type": "markdown",
   "id": "0575732c",
   "metadata": {},
   "source": [
    "13 What can you do to save a programme from crashing if it encounters an error?\n",
    "\n",
    "we have to use 'try' 'except' statement"
   ]
  },
  {
   "cell_type": "markdown",
   "id": "3252fa87",
   "metadata": {},
   "source": [
    "14.What is the purpose of the try clause? What is the purpose of the except clause?\n",
    "\n",
    "The try block lets us test a block of code for error. The except block lets us help to handle the error"
   ]
  }
 ],
 "metadata": {
  "kernelspec": {
   "display_name": "Python 3 (ipykernel)",
   "language": "python",
   "name": "python3"
  },
  "language_info": {
   "codemirror_mode": {
    "name": "ipython",
    "version": 3
   },
   "file_extension": ".py",
   "mimetype": "text/x-python",
   "name": "python",
   "nbconvert_exporter": "python",
   "pygments_lexer": "ipython3",
   "version": "3.9.9"
  }
 },
 "nbformat": 4,
 "nbformat_minor": 5
}
