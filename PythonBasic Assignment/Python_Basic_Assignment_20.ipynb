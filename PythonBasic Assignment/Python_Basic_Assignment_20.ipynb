{
 "cells": [
  {
   "cell_type": "markdown",
   "id": "48a87a6d",
   "metadata": {},
   "source": [
    "1.Set the variable test1 to the string 'This is a test of the emergency text system,' and save test1 to a\n",
    "file named test.txt."
   ]
  },
  {
   "cell_type": "code",
   "execution_count": 1,
   "id": "40d26e6a",
   "metadata": {},
   "outputs": [],
   "source": [
    "test1='This is a test of the emergency text system'\n",
    "with open('test.txt', 'w') as f:\n",
    "    f.write(test1)"
   ]
  },
  {
   "cell_type": "markdown",
   "id": "91681c2c",
   "metadata": {},
   "source": [
    "2.Read the contents of the file test.txt into the variable test2. Is there a difference between test 1\n",
    "and test 2?"
   ]
  },
  {
   "cell_type": "code",
   "execution_count": 2,
   "id": "ec8ceb6e",
   "metadata": {},
   "outputs": [
    {
     "name": "stdout",
     "output_type": "stream",
     "text": [
      "This is a test of the emergency text system\n"
     ]
    }
   ],
   "source": [
    "with open('test.txt', 'r') as f:\n",
    "    test2=f.read()\n",
    "    print(test2)"
   ]
  },
  {
   "cell_type": "markdown",
   "id": "cacd79d0",
   "metadata": {},
   "source": [
    "No there is no difference"
   ]
  },
  {
   "cell_type": "markdown",
   "id": "04ffcfe9",
   "metadata": {},
   "source": [
    "3. Create a CSV file called books.csv by using these lines:\n",
    "title,author,year\n",
    "The Weirdstone of Brisingamen,Alan Garner,1960\n",
    "Perdido Street Station,China Miéville,2000\n",
    "Thud!,Terry Pratchett,2005\n",
    "The Spellman Files,Lisa Lutz,2007\n",
    "Small Gods,Terry Pratchett,1992"
   ]
  },
  {
   "cell_type": "code",
   "execution_count": 8,
   "id": "98316596",
   "metadata": {},
   "outputs": [],
   "source": [
    "text=[['title','author','year'],\n",
    "['The Weirdstone of Brisingamen','Alan Garner',1960],\n",
    "['Perdido Street Station','China Miéville',2000],\n",
    "['Thud!','Terry Pratchett',2005],\n",
    "['The Spellman Files','Lisa Lutz',2007],\n",
    "['Small Gods','Terry Pratchett',1992]]\n",
    "import csv\n",
    "with open('books.csv', 'w', newline='') as f:\n",
    "    csv_writer=csv.writer(f)\n",
    "    csv_writer.writerows(text)"
   ]
  },
  {
   "cell_type": "markdown",
   "id": "0ede7b2a",
   "metadata": {},
   "source": [
    "4.Use the sqlite3 module to create a SQLite database called books.db, and a table called books with\n",
    "these fields: title (text), author (text), and year (integer)."
   ]
  },
  {
   "cell_type": "code",
   "execution_count": 4,
   "id": "fb863121",
   "metadata": {},
   "outputs": [],
   "source": [
    "import sqlite3"
   ]
  },
  {
   "cell_type": "code",
   "execution_count": 5,
   "id": "6a4b8783",
   "metadata": {},
   "outputs": [],
   "source": [
    "db=sqlite3.connect('books.db')"
   ]
  },
  {
   "cell_type": "code",
   "execution_count": 6,
   "id": "8afea1ae",
   "metadata": {},
   "outputs": [],
   "source": [
    "cursor=db.cursor()"
   ]
  },
  {
   "cell_type": "code",
   "execution_count": 4,
   "id": "456788b3",
   "metadata": {},
   "outputs": [
    {
     "data": {
      "text/plain": [
       "<sqlite3.Cursor at 0x24e5d1fd500>"
      ]
     },
     "execution_count": 4,
     "metadata": {},
     "output_type": "execute_result"
    }
   ],
   "source": [
    "cursor.execute(\"create table books(title text, author text, year int)\")"
   ]
  },
  {
   "cell_type": "markdown",
   "id": "3b4e0a27",
   "metadata": {},
   "source": [
    "5.Read books.csv and insert its data into the book table."
   ]
  },
  {
   "cell_type": "code",
   "execution_count": 7,
   "id": "acc76c2e",
   "metadata": {},
   "outputs": [
    {
     "name": "stdout",
     "output_type": "stream",
     "text": [
      "['The Weirdstone of Brisingamen', 'Alan Garner', '1960']\n",
      "['Perdido Street Station', 'China Miéville', '2000']\n",
      "['Thud!', 'Terry Pratchett', '2005']\n",
      "['The Spellman Files', 'Lisa Lutz', '2007']\n",
      "['Small Gods', 'Terry Pratchett', '1992']\n"
     ]
    }
   ],
   "source": [
    "import csv\n",
    "cursor=db.cursor()\n",
    "with open('books.csv','r') as f:\n",
    "    next(f)\n",
    "    csv_reader=csv.reader(f)\n",
    "    for i in csv_reader:\n",
    "        print(i)\n",
    "        cursor.execute(f\"insert into books values('{i[0]}','{i[1]}',{i[2]})\")\n",
    "db.commit()"
   ]
  },
  {
   "cell_type": "markdown",
   "id": "15a7ab4c",
   "metadata": {},
   "source": [
    "6.Select and print the title column from the book table in alphabetical order."
   ]
  },
  {
   "cell_type": "code",
   "execution_count": 9,
   "id": "b25556cd",
   "metadata": {},
   "outputs": [
    {
     "name": "stdout",
     "output_type": "stream",
     "text": [
      "Perdido Street Station\n",
      "Small Gods\n",
      "The Spellman Files\n",
      "The Weirdstone of Brisingamen\n",
      "Thud!\n"
     ]
    }
   ],
   "source": [
    "data=cursor.execute(\"select title from books order by title \")\n",
    "for i in data:\n",
    "    print(i[0])"
   ]
  },
  {
   "cell_type": "code",
   "execution_count": null,
   "id": "d0d44a47",
   "metadata": {},
   "outputs": [],
   "source": []
  },
  {
   "cell_type": "code",
   "execution_count": null,
   "id": "a2333e7e",
   "metadata": {},
   "outputs": [],
   "source": []
  }
 ],
 "metadata": {
  "kernelspec": {
   "display_name": "Python 3 (ipykernel)",
   "language": "python",
   "name": "python3"
  },
  "language_info": {
   "codemirror_mode": {
    "name": "ipython",
    "version": 3
   },
   "file_extension": ".py",
   "mimetype": "text/x-python",
   "name": "python",
   "nbconvert_exporter": "python",
   "pygments_lexer": "ipython3",
   "version": "3.9.9"
  }
 },
 "nbformat": 4,
 "nbformat_minor": 5
}
