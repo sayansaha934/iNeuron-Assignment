{
 "cells": [
  {
   "cell_type": "markdown",
   "id": "c988e110",
   "metadata": {},
   "source": [
    "1.Create an assert statement that throws an AssertionError if the variable spam is a negative integer.\n",
    "\n",
    "assert spam>0, \"Negative not allowed!\""
   ]
  },
  {
   "cell_type": "markdown",
   "id": "d8784cc2",
   "metadata": {},
   "source": [
    "2.Write an assert statement that triggers an AssertionError if the variables eggs and bacon contain\n",
    "strings that are the same as each other, even if their cases are different (that is, 'hello' and 'hello' are\n",
    "considered the same, and 'goodbye' and 'GOODbye' are also considered the same).\n",
    "\n",
    "assert eggs.lower()!=bacon.lower(), \"eggs and bacon shouldn't be same!\""
   ]
  },
  {
   "cell_type": "markdown",
   "id": "ccc4d89d",
   "metadata": {},
   "source": [
    "3.Create an assert statement that throws an AssertionError every time.\n",
    "\n",
    "assert False"
   ]
  },
  {
   "cell_type": "markdown",
   "id": "a0c2d711",
   "metadata": {},
   "source": [
    "4.What are the two lines that must be present in your software in order to call logging.debug()?\n",
    "\n",
    "import logging\n",
    "\n",
    "logging.basicConfig(fiename, level=logging.DEBUG)"
   ]
  },
  {
   "cell_type": "markdown",
   "id": "520b4775",
   "metadata": {},
   "source": [
    "5.What are the two lines that your program must have in order to have logging.debug() send a\n",
    "logging message to a file named programLog.txt?\n",
    "\n",
    "import logging\n",
    "\n",
    "logging.basicConfig(fiename, level=logging.DEBUG)"
   ]
  },
  {
   "cell_type": "markdown",
   "id": "c273f969",
   "metadata": {},
   "source": [
    "6.What are the five levels of logging?\n",
    "\n",
    "logging.error()\n",
    "\n",
    "logging.warning()\n",
    "\n",
    "logging.info()\n",
    "\n",
    "logging.critical()\n",
    "\n",
    "logging.debug()"
   ]
  },
  {
   "cell_type": "markdown",
   "id": "72819aab",
   "metadata": {},
   "source": [
    "7.What line of code would you add to your software to disable all logging messages?\n",
    "\n",
    "logging.disable(level)"
   ]
  },
  {
   "cell_type": "markdown",
   "id": "24dc8201",
   "metadata": {},
   "source": [
    "8.Why is using logging messages better than using print() to display the same message?\n",
    "\n",
    "It helps to see where and when a logging call is being made from\n",
    "\n",
    "we can differentiate logging based on severity\n",
    "\n",
    "print does not have any of them"
   ]
  },
  {
   "cell_type": "markdown",
   "id": "ecb81d8a",
   "metadata": {},
   "source": [
    "9.What are the differences between the Step Over, Step In, and Step Out buttons in the debugger?\n",
    "\n",
    "Step In will dig into method calls.\n",
    "\n",
    "Step Over will just execute the line and go to the next line.\n",
    "\n",
    "Step Out Steps out of the current method and takes you to the caller method."
   ]
  },
  {
   "cell_type": "markdown",
   "id": "458e69c3",
   "metadata": {},
   "source": [
    "10.After you click Continue, when will the debugger stop ?\n",
    "\n",
    "when it has reached the end of a program or a breakpoint"
   ]
  },
  {
   "cell_type": "markdown",
   "id": "b9b73f59",
   "metadata": {},
   "source": [
    "11.What is the concept of a breakpoint?\n",
    "\n",
    "An intentional stopping point or pause put into program for debugging purpose."
   ]
  }
 ],
 "metadata": {
  "kernelspec": {
   "display_name": "Python 3 (ipykernel)",
   "language": "python",
   "name": "python3"
  },
  "language_info": {
   "codemirror_mode": {
    "name": "ipython",
    "version": 3
   },
   "file_extension": ".py",
   "mimetype": "text/x-python",
   "name": "python",
   "nbconvert_exporter": "python",
   "pygments_lexer": "ipython3",
   "version": "3.9.9"
  }
 },
 "nbformat": 4,
 "nbformat_minor": 5
}
