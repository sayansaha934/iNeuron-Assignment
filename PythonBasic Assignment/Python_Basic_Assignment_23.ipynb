{
 "cells": [
  {
   "cell_type": "code",
   "execution_count": null,
   "id": "51377ee5",
   "metadata": {},
   "outputs": [],
   "source": [
    "# 1.What is the result of the code, and why?\n",
    "# def func(a, b=6, c=8):\n",
    "#     print(a, b, c)\n",
    "# func(1, 2)"
   ]
  },
  {
   "cell_type": "markdown",
   "id": "75a11f4d",
   "metadata": {},
   "source": [
    "Result is 1, 2, 8 because calling func(1,2), a=1, default value of b=6 will be changed to b=2 and c=8 which is a default value."
   ]
  },
  {
   "cell_type": "code",
   "execution_count": 3,
   "id": "5c761173",
   "metadata": {},
   "outputs": [],
   "source": [
    "# 2.What is the result of this code, and why?\n",
    "# def func(a, b, c=5):\n",
    "#     print(a, b, c)\n",
    "# func(1, c=3, b=2)"
   ]
  },
  {
   "cell_type": "markdown",
   "id": "7b94cd26",
   "metadata": {},
   "source": [
    "Result is 1,2,3 because calling func(1, c=3, b=2), a=1, b=2, default value of c=5 will be changed to c=3"
   ]
  },
  {
   "cell_type": "code",
   "execution_count": null,
   "id": "065ed025",
   "metadata": {},
   "outputs": [],
   "source": [
    "# 3.How about this code: what is its result, and why?\n",
    "# def func(a, *pargs):\n",
    "#     print(a, pargs)\n",
    "# func(1, 2, 3)"
   ]
  },
  {
   "cell_type": "markdown",
   "id": "60cebe8c",
   "metadata": {},
   "source": [
    "Result is 1, (2,3) because calling func(1,2,3), a=1 and pargs=(2,3)"
   ]
  },
  {
   "cell_type": "code",
   "execution_count": 10,
   "id": "5ee118a4",
   "metadata": {},
   "outputs": [],
   "source": [
    "# 4.What does this code print, and why?\n",
    "# def func(a, **kargs):\n",
    "#     print(a, kargs)\n",
    "# func(a=1, c=3, b=2)"
   ]
  },
  {
   "cell_type": "markdown",
   "id": "a44cb30e",
   "metadata": {},
   "source": [
    "Result is 1 {'c': 3, 'b': 2} because calling func(a=1, c=3, b=2), a=1, and b=2, c=3 will be assigned in kargs which takes as key-value pair."
   ]
  },
  {
   "cell_type": "code",
   "execution_count": 12,
   "id": "4726bfa7",
   "metadata": {},
   "outputs": [],
   "source": [
    "# 5.What gets printed by this, and explain?\n",
    "# def func(a, b, c=8, d=5): print(a, b, c, d)\n",
    "# func(1, *(5, 6))"
   ]
  },
  {
   "cell_type": "markdown",
   "id": "d02f7e49",
   "metadata": {},
   "source": [
    "Result is 1 5 6 5 because calling func(1, *(5, 6)), a=1, b=5 and c=6 which take value from *(5,6), and d=5 which is default value "
   ]
  },
  {
   "cell_type": "code",
   "execution_count": null,
   "id": "b522b3fc",
   "metadata": {},
   "outputs": [],
   "source": [
    "# 6.what is the result of this, and explain?\n",
    "# def func(a, b, c): a = 2; b[0] = 'x'; c['a'] = 'y'\n",
    "# l=1; m=[1]; n={'a':0}\n",
    "# func(l, m, n)\n",
    "# l, m, n"
   ]
  },
  {
   "cell_type": "markdown",
   "id": "d21273ce",
   "metadata": {},
   "source": [
    "Result is (1, ['x'], {'a': 'y'}), because calling func(l, m, n), l=1,   m[0]='x',   n['a']='y'"
   ]
  }
 ],
 "metadata": {
  "kernelspec": {
   "display_name": "Python 3 (ipykernel)",
   "language": "python",
   "name": "python3"
  },
  "language_info": {
   "codemirror_mode": {
    "name": "ipython",
    "version": 3
   },
   "file_extension": ".py",
   "mimetype": "text/x-python",
   "name": "python",
   "nbconvert_exporter": "python",
   "pygments_lexer": "ipython3",
   "version": "3.9.9"
  }
 },
 "nbformat": 4,
 "nbformat_minor": 5
}
