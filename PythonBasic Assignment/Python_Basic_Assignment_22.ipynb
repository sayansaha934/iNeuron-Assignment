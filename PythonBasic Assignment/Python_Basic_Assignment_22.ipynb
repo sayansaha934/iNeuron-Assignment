{
 "cells": [
  {
   "cell_type": "code",
   "execution_count": 5,
   "id": "c9af6c3b",
   "metadata": {},
   "outputs": [],
   "source": [
    "# 1.What is the result of the code, and explain?\n",
    "# X = 'iNeuron'\n",
    "# def func():\n",
    "#     print(X)\n",
    "# func()"
   ]
  },
  {
   "cell_type": "markdown",
   "id": "a3271376",
   "metadata": {},
   "source": [
    "func() prints 'iNeuron', because inside func() X is global variable."
   ]
  },
  {
   "cell_type": "code",
   "execution_count": 6,
   "id": "f782bd7f",
   "metadata": {},
   "outputs": [],
   "source": [
    "# 2.What is the result of the code, and explain?\n",
    "# X = 'iNeuron'\n",
    "# def func():\n",
    "#     X = 'NI!'\n",
    "# func()\n",
    "# print(X)"
   ]
  },
  {
   "cell_type": "markdown",
   "id": "77040dec",
   "metadata": {},
   "source": [
    "print(X) prints 'iNeuron' which is global variable, inside func()  X='NI'  which is local variable"
   ]
  },
  {
   "cell_type": "code",
   "execution_count": null,
   "id": "6210b9e1",
   "metadata": {},
   "outputs": [],
   "source": [
    "# 3.What does this code print, and why?\n",
    "# X = 'iNeuron'\n",
    "# def func():\n",
    "#     X = 'NI'\n",
    "#     print(X)\n",
    "# func()\n",
    "# print(X)"
   ]
  },
  {
   "cell_type": "markdown",
   "id": "116e3413",
   "metadata": {},
   "source": [
    "func() prints 'NI' because here X='NI' which is local variable.\n",
    "\n",
    "print(X) prints 'iNeuron' because here X='iNeuron' which is global variable."
   ]
  },
  {
   "cell_type": "code",
   "execution_count": 19,
   "id": "be0a39a7",
   "metadata": {},
   "outputs": [],
   "source": [
    "# 4. What output does this code produce? Why?\n",
    "# X = 'iNeuron'\n",
    "# def func():\n",
    "#     global X\n",
    "#     X = 'NI'\n",
    "# func()\n",
    "# print(X)\n"
   ]
  },
  {
   "cell_type": "markdown",
   "id": "e7532acd",
   "metadata": {},
   "source": [
    "print(X) prints 'NI' because after calling func(), it is changing global variable from X='iNeuron' to X='NI'"
   ]
  },
  {
   "cell_type": "code",
   "execution_count": 29,
   "id": "2fd153e3",
   "metadata": {},
   "outputs": [],
   "source": [
    "# 5. What about this code—what’s the output, and why?\n",
    "# X = 'iNeuron'\n",
    "# def func():\n",
    "#     X = 'NI'\n",
    "#     def nested():\n",
    "#         print(X)\n",
    "#     nested()\n",
    "# func()\n",
    "# X"
   ]
  },
  {
   "cell_type": "markdown",
   "id": "c424e76a",
   "metadata": {},
   "source": [
    "func() prints 'NI' because calling func(), nested() also being called,\n",
    "\n",
    "nested() prints 'NI' because it is taking X='NI' which is local variable\n",
    "\n",
    "\n",
    "X gives 'iNeuron' which is global variable"
   ]
  },
  {
   "cell_type": "code",
   "execution_count": null,
   "id": "e55815e2",
   "metadata": {},
   "outputs": [],
   "source": [
    "# 6. How about this code: what is its output in Python 3, and explain?\n",
    "# def func():\n",
    "#     X = 'NI'\n",
    "#     def nested():\n",
    "#         nonlocal X\n",
    "#         X = 'Spam'\n",
    "#     nested()\n",
    "#     print(X)\n",
    "# func()"
   ]
  },
  {
   "cell_type": "markdown",
   "id": "bf9b84c7",
   "metadata": {},
   "source": [
    "func() prints 'Spam' because calling function nested() also being called,\n",
    "\n",
    "here nested() changes the global variable X='NI' to X='Spam'"
   ]
  }
 ],
 "metadata": {
  "kernelspec": {
   "display_name": "Python 3 (ipykernel)",
   "language": "python",
   "name": "python3"
  },
  "language_info": {
   "codemirror_mode": {
    "name": "ipython",
    "version": 3
   },
   "file_extension": ".py",
   "mimetype": "text/x-python",
   "name": "python",
   "nbconvert_exporter": "python",
   "pygments_lexer": "ipython3",
   "version": "3.9.9"
  }
 },
 "nbformat": 4,
 "nbformat_minor": 5
}
