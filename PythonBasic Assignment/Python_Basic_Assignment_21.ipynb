{
 "cells": [
  {
   "cell_type": "markdown",
   "id": "128d52a3",
   "metadata": {},
   "source": [
    "1.Add the current date to the text file today.txt as a string."
   ]
  },
  {
   "cell_type": "code",
   "execution_count": 16,
   "id": "03ce68b2",
   "metadata": {},
   "outputs": [],
   "source": [
    "import datetime\n",
    "date=str(datetime.datetime.now().date())\n",
    "with open('today.txt', 'w') as f:\n",
    "    f.write(date)"
   ]
  },
  {
   "cell_type": "markdown",
   "id": "9381e542",
   "metadata": {},
   "source": [
    "2.Read the text file today.txt into the string today_string"
   ]
  },
  {
   "cell_type": "code",
   "execution_count": 17,
   "id": "996945fa",
   "metadata": {},
   "outputs": [],
   "source": [
    "with open('today.txt', 'r') as f:\n",
    "    today_string=f.read()"
   ]
  },
  {
   "cell_type": "markdown",
   "id": "372cb2d6",
   "metadata": {},
   "source": [
    "3.Parse the date from today_string"
   ]
  },
  {
   "cell_type": "code",
   "execution_count": 18,
   "id": "6de999c9",
   "metadata": {},
   "outputs": [
    {
     "data": {
      "text/plain": [
       "'2022-02-02'"
      ]
     },
     "execution_count": 18,
     "metadata": {},
     "output_type": "execute_result"
    }
   ],
   "source": [
    "today_string"
   ]
  },
  {
   "cell_type": "markdown",
   "id": "deeab24e",
   "metadata": {},
   "source": [
    "4.List the files in your current directory"
   ]
  },
  {
   "cell_type": "code",
   "execution_count": 27,
   "id": "28cc9d3b",
   "metadata": {},
   "outputs": [
    {
     "data": {
      "text/plain": [
       "['.ipynb_checkpoints',\n",
       " 'books.csv',\n",
       " 'image.jpg',\n",
       " 'Python_Basic_Assignment_01.ipynb',\n",
       " 'Python_Basic_Assignment_02.ipynb',\n",
       " 'Python_Basic_Assignment_03.ipynb',\n",
       " 'Python_Basic_Assignment_04.ipynb',\n",
       " 'Python_Basic_Assignment_05.ipynb',\n",
       " 'Python_Basic_Assignment_06.ipynb',\n",
       " 'Python_Basic_Assignment_07.ipynb',\n",
       " 'Python_Basic_Assignment_08.ipynb',\n",
       " 'Python_Basic_Assignment_09.ipynb',\n",
       " 'Python_Basic_Assignment_10.ipynb',\n",
       " 'Python_Basic_Assignment_11.ipynb',\n",
       " 'Python_Basic_Assignment_12.ipynb',\n",
       " 'Python_Basic_Assignment_13.ipynb',\n",
       " 'Python_Basic_Assignment_14.ipynb',\n",
       " 'Python_Basic_Assignment_15.ipynb',\n",
       " 'Python_Basic_Assignment_16.ipynb',\n",
       " 'Python_Basic_Assignment_17.ipynb',\n",
       " 'Python_Basic_Assignment_18.ipynb',\n",
       " 'Python_Basic_Assignment_19.ipynb',\n",
       " 'Python_Basic_Assignment_20.ipynb',\n",
       " 'Python_Basic_Assignment_21.ipynb',\n",
       " 'test.txt',\n",
       " 'today.txt',\n",
       " 'zoo.py',\n",
       " '__pycache__']"
      ]
     },
     "execution_count": 27,
     "metadata": {},
     "output_type": "execute_result"
    }
   ],
   "source": [
    "import os\n",
    "list_dir=os.listdir()\n",
    "list_dir"
   ]
  },
  {
   "cell_type": "markdown",
   "id": "58bb4328",
   "metadata": {},
   "source": [
    "5.Create a list of all of the files in your parent directory (minimum five files should be available)."
   ]
  },
  {
   "cell_type": "code",
   "execution_count": 37,
   "id": "d3eef9db",
   "metadata": {},
   "outputs": [
    {
     "data": {
      "text/plain": [
       "['23. Django-20220121T115846Z-001',\n",
       " 'Python Assignment',\n",
       " 'Python.pdf',\n",
       " 'simple.csv',\n",
       " 'simple_edit_file.csv',\n",
       " 'simple_file.csv']"
      ]
     },
     "execution_count": 37,
     "metadata": {},
     "output_type": "execute_result"
    }
   ],
   "source": [
    "parent_dir=os.listdir('..')\n",
    "parent_dir"
   ]
  },
  {
   "cell_type": "markdown",
   "id": "07e6a514",
   "metadata": {},
   "source": [
    "6.Use multiprocessing to create three separate processes. Make each one wait a random number of\n",
    "seconds between one and five, print the current time, and then exit."
   ]
  },
  {
   "cell_type": "code",
   "execution_count": 87,
   "id": "e4cb9250",
   "metadata": {},
   "outputs": [],
   "source": [
    "#multi.py\n",
    "# import multiprocessing\n",
    "# from random import randint\n",
    "# def wait(seconds):\n",
    "#     from datetime import datetime\n",
    "#     from time import sleep\n",
    "#     print(f'wait {seconds} seconds')\n",
    "#     sleep(seconds)\n",
    "#     print('current time: ', datetime.now().time())\n",
    "    \n",
    "# if __name__ == \"__main__\":\n",
    "#     for i in range(3):\n",
    "#         from random import randint\n",
    "#         seconds=randint(1,5)\n",
    "#         p=multiprocessing.Process(target=wait, args=(seconds,))\n",
    "#         p.start()"
   ]
  },
  {
   "cell_type": "code",
   "execution_count": 88,
   "id": "f97be00e",
   "metadata": {},
   "outputs": [
    {
     "name": "stdout",
     "output_type": "stream",
     "text": [
      "wait 2 seconds\n",
      "current time:  16:20:37.622398\n",
      "wait 5 seconds\n",
      "current time:  16:20:40.625300\n",
      "wait 5 seconds\n",
      "current time:  16:20:40.625300\n"
     ]
    }
   ],
   "source": [
    "!python multi.py"
   ]
  },
  {
   "cell_type": "markdown",
   "id": "8f6f6b81",
   "metadata": {},
   "source": [
    "7.Create a date object of your day of birth."
   ]
  },
  {
   "cell_type": "code",
   "execution_count": 117,
   "id": "138d7d87",
   "metadata": {},
   "outputs": [],
   "source": [
    "from datetime import datetime\n",
    "bday=datetime(2000,2,22)"
   ]
  },
  {
   "cell_type": "markdown",
   "id": "ec2a690d",
   "metadata": {},
   "source": [
    "8.What day of the week was your day of birth?"
   ]
  },
  {
   "cell_type": "code",
   "execution_count": 118,
   "id": "64650722",
   "metadata": {},
   "outputs": [
    {
     "data": {
      "text/plain": [
       "'Tuesday'"
      ]
     },
     "execution_count": 118,
     "metadata": {},
     "output_type": "execute_result"
    }
   ],
   "source": [
    "bday.strftime(\"%A\")"
   ]
  },
  {
   "cell_type": "markdown",
   "id": "dee5a232",
   "metadata": {},
   "source": [
    "9.When will you be (or when were you) 10,000 days old?"
   ]
  },
  {
   "cell_type": "code",
   "execution_count": 123,
   "id": "f891a0b2",
   "metadata": {},
   "outputs": [
    {
     "data": {
      "text/plain": [
       "'2027-07-10'"
      ]
     },
     "execution_count": 123,
     "metadata": {},
     "output_type": "execute_result"
    }
   ],
   "source": [
    "from datetime import timedelta\n",
    "days=timedelta(days=10000)\n",
    "str(bday.date()+days)"
   ]
  },
  {
   "cell_type": "code",
   "execution_count": null,
   "id": "c0a54384",
   "metadata": {},
   "outputs": [],
   "source": []
  },
  {
   "cell_type": "code",
   "execution_count": null,
   "id": "1baa223f",
   "metadata": {},
   "outputs": [],
   "source": []
  }
 ],
 "metadata": {
  "kernelspec": {
   "display_name": "Python 3 (ipykernel)",
   "language": "python",
   "name": "python3"
  },
  "language_info": {
   "codemirror_mode": {
    "name": "ipython",
    "version": 3
   },
   "file_extension": ".py",
   "mimetype": "text/x-python",
   "name": "python",
   "nbconvert_exporter": "python",
   "pygments_lexer": "ipython3",
   "version": "3.9.9"
  }
 },
 "nbformat": 4,
 "nbformat_minor": 5
}
