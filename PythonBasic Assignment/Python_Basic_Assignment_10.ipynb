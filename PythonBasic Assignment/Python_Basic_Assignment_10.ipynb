{
 "cells": [
  {
   "cell_type": "markdown",
   "id": "9b39ea9e",
   "metadata": {},
   "source": [
    "1.How do you distinguish between shutil.copy() and shutil.copytree()?\n",
    "\n",
    "shutil.copy() will copy a single file and shutil.copytree() will copy an entire folder and every folder and file contained in it."
   ]
  },
  {
   "cell_type": "markdown",
   "id": "b50f6fca",
   "metadata": {},
   "source": [
    "2.What function is used to rename files??\n",
    "\n",
    "os.rename()"
   ]
  },
  {
   "cell_type": "markdown",
   "id": "5167df1b",
   "metadata": {},
   "source": [
    "3.What is the difference between the delete functions in the send2trash and shutil modules?\n",
    "\n",
    "send2trash function move a file or folder to the recycle bin, while shutil function permanently delete file or folder."
   ]
  },
  {
   "cell_type": "markdown",
   "id": "4f5fc9cc",
   "metadata": {},
   "source": [
    "4.ZipFile objects have a close() method just like File objects’ close() method. What ZipFile method is\n",
    "equivalent to File objects’ open() method?\n",
    "\n",
    "ZipFile"
   ]
  },
  {
   "cell_type": "markdown",
   "id": "d8cd4fa0",
   "metadata": {},
   "source": [
    "5.Create a programme that searches a folder tree for files with a certain file extension (such as .pdf\n",
    "or .jpg). Copy these files from whatever location they are in to a new folder.\n"
   ]
  },
  {
   "cell_type": "code",
   "execution_count": 9,
   "id": "5bb57b13",
   "metadata": {},
   "outputs": [
    {
     "name": "stdout",
     "output_type": "stream",
     "text": [
      "Files have been successfully copied from C:\\Users\\Sayan Saha\\Desktop\\test10 to C:\\Users\\Sayan Saha\\Desktop\\xyz\n"
     ]
    }
   ],
   "source": [
    "def copyFile(src,dst,ext):\n",
    "    try:\n",
    "        import os,shutil\n",
    "        for file in os.listdir(src):\n",
    "            if file.endswith(ext):\n",
    "                shutil.copy(os.path.join(src,file),dst)\n",
    "        print(f'Files have been successfully copied from {src} to {dst}')\n",
    "    except Exception as e:\n",
    "        print(e)\n",
    "\n",
    "copyFile(r'C:\\Users\\Sayan Saha\\Desktop\\test10', r'C:\\Users\\Sayan Saha\\Desktop\\xyz', '.pdf')"
   ]
  }
 ],
 "metadata": {
  "kernelspec": {
   "display_name": "Python 3 (ipykernel)",
   "language": "python",
   "name": "python3"
  },
  "language_info": {
   "codemirror_mode": {
    "name": "ipython",
    "version": 3
   },
   "file_extension": ".py",
   "mimetype": "text/x-python",
   "name": "python",
   "nbconvert_exporter": "python",
   "pygments_lexer": "ipython3",
   "version": "3.9.9"
  }
 },
 "nbformat": 4,
 "nbformat_minor": 5
}
