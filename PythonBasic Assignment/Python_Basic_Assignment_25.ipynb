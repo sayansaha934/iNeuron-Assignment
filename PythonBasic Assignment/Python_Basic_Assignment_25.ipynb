{
 "cells": [
  {
   "cell_type": "markdown",
   "id": "66053c48",
   "metadata": {},
   "source": [
    "1.What is the difference between enclosing a list comprehension in square brackets and\n",
    "parentheses?\n",
    "\n",
    "sqauare bracket is list and parentheses is tuple"
   ]
  },
  {
   "cell_type": "markdown",
   "id": "873c4d7e",
   "metadata": {},
   "source": [
    "2.What is the relationship between generators and iterators?\n",
    "\n",
    "Every generator is an iterator."
   ]
  },
  {
   "cell_type": "markdown",
   "id": "5a87fa7e",
   "metadata": {},
   "source": [
    "3.What are the signs that a function is a generator function?\n",
    "\n",
    "Function must contain yield statement."
   ]
  },
  {
   "cell_type": "markdown",
   "id": "40c4b5f0",
   "metadata": {},
   "source": [
    "4.What is the purpose of a yield statement?\n",
    "\n",
    "yield has same purpose as return except it returns value one by one. This is very useful when we need to return huge number of values."
   ]
  },
  {
   "cell_type": "markdown",
   "id": "de824e77",
   "metadata": {},
   "source": [
    "5.What is the relationship between map calls and list comprehensions? Make a comparison and\n",
    "contrast between the two.\n",
    "\n",
    "\n",
    "If we have to use same operation for each item in a sequence of iterable, then both are useful.\n",
    "\n",
    "\n",
    "comparison:\n",
    "\n",
    "1.We can filter in list comprehension but it is not possible for map calls.\n",
    "\n",
    "2.list comprehension is used when list of result is required but map only returns map object not list.\n"
   ]
  }
 ],
 "metadata": {
  "kernelspec": {
   "display_name": "Python 3 (ipykernel)",
   "language": "python",
   "name": "python3"
  },
  "language_info": {
   "codemirror_mode": {
    "name": "ipython",
    "version": 3
   },
   "file_extension": ".py",
   "mimetype": "text/x-python",
   "name": "python",
   "nbconvert_exporter": "python",
   "pygments_lexer": "ipython3",
   "version": "3.9.9"
  }
 },
 "nbformat": 4,
 "nbformat_minor": 5
}
