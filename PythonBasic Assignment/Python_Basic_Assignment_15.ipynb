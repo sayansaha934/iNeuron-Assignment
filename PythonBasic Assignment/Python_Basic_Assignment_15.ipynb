{
 "cells": [
  {
   "cell_type": "code",
   "execution_count": 5,
   "id": "0487f1c5",
   "metadata": {},
   "outputs": [
    {
     "data": {
      "text/plain": [
       "3600"
      ]
     },
     "execution_count": 5,
     "metadata": {},
     "output_type": "execute_result"
    }
   ],
   "source": [
    "# 1.How many seconds are in an hour? Use the interactive interpreter as a calculator and multiply the\n",
    "# number of seconds in a minute (60) by the number of minutes in an hour (also 60).\n",
    "\n",
    "minute_per_hour=60\n",
    "second_per_minute=60\n",
    "minute_per_hour*second_per_minute"
   ]
  },
  {
   "cell_type": "code",
   "execution_count": 6,
   "id": "d7af48cc",
   "metadata": {},
   "outputs": [],
   "source": [
    "# 2.Assign the result from the previous task (seconds in an hour) to a variable called seconds_per_hour\n",
    "\n",
    "second_per_hour = 3600"
   ]
  },
  {
   "cell_type": "code",
   "execution_count": 8,
   "id": "df8925ec",
   "metadata": {},
   "outputs": [
    {
     "data": {
      "text/plain": [
       "86400"
      ]
     },
     "execution_count": 8,
     "metadata": {},
     "output_type": "execute_result"
    }
   ],
   "source": [
    "# 3.How many seconds do you think there are in a day? Make use of the variables seconds per hour and minutes per hour.\n",
    "\n",
    "24*second_per_hour"
   ]
  },
  {
   "cell_type": "code",
   "execution_count": 32,
   "id": "75d94c0b",
   "metadata": {},
   "outputs": [
    {
     "data": {
      "text/plain": [
       "86400"
      ]
     },
     "execution_count": 32,
     "metadata": {},
     "output_type": "execute_result"
    }
   ],
   "source": [
    "# 4.Calculate seconds per day again, but this time save the result in a variable called seconds_per_day\n",
    "\n",
    "seconds_per_day=24*second_per_hour\n",
    "seconds_per_day"
   ]
  },
  {
   "cell_type": "code",
   "execution_count": 10,
   "id": "18220bca",
   "metadata": {},
   "outputs": [
    {
     "data": {
      "text/plain": [
       "24.0"
      ]
     },
     "execution_count": 10,
     "metadata": {},
     "output_type": "execute_result"
    }
   ],
   "source": [
    "# 5.Divide seconds_per_day by seconds_per_hour. Use floating-point (/) division.\n",
    "\n",
    "seconds_per_day/second_per_hour"
   ]
  },
  {
   "cell_type": "code",
   "execution_count": 12,
   "id": "b8d0a55e",
   "metadata": {},
   "outputs": [
    {
     "data": {
      "text/plain": [
       "24"
      ]
     },
     "execution_count": 12,
     "metadata": {},
     "output_type": "execute_result"
    }
   ],
   "source": [
    "# 6. Divide seconds_per_day by seconds_per_hour, using integer (//) division. Did this number agree\n",
    "# with the floating-point value from the previous question, aside from the final .0?\n",
    "\n",
    "seconds_per_day//second_per_hour"
   ]
  },
  {
   "cell_type": "markdown",
   "id": "50ab4209",
   "metadata": {},
   "source": [
    "Yes, this number is same as previous. Now it is integer type and previous one was float type"
   ]
  },
  {
   "cell_type": "code",
   "execution_count": 15,
   "id": "674ea383",
   "metadata": {},
   "outputs": [],
   "source": [
    "# 7. Write a generator, genPrimes, that returns the sequence of prime numbers on successive calls to\n",
    "# its next() method: 2, 3, 5, 7, 11, ..."
   ]
  },
  {
   "cell_type": "code",
   "execution_count": 18,
   "id": "f3e67237",
   "metadata": {},
   "outputs": [],
   "source": [
    "def genPrimes():\n",
    "    primes=[]\n",
    "    last=1\n",
    "    while True:\n",
    "        last+=1\n",
    "        for p in primes:\n",
    "            if last%p==0:\n",
    "                break\n",
    "        else:\n",
    "            primes.append(last)\n",
    "            yield last"
   ]
  }
 ],
 "metadata": {
  "kernelspec": {
   "display_name": "Python 3 (ipykernel)",
   "language": "python",
   "name": "python3"
  },
  "language_info": {
   "codemirror_mode": {
    "name": "ipython",
    "version": 3
   },
   "file_extension": ".py",
   "mimetype": "text/x-python",
   "name": "python",
   "nbconvert_exporter": "python",
   "pygments_lexer": "ipython3",
   "version": "3.9.9"
  }
 },
 "nbformat": 4,
 "nbformat_minor": 5
}
