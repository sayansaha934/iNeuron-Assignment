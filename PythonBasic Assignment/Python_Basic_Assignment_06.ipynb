{
 "cells": [
  {
   "cell_type": "markdown",
   "id": "914e5d41",
   "metadata": {},
   "source": [
    "1.What are escape characters, and how do you use them?\n",
    "\n",
    "' \\t ' for tab, ' \\n ' for new line, ' \\r ' for carriage return.  "
   ]
  },
  {
   "cell_type": "markdown",
   "id": "43402f9f",
   "metadata": {},
   "source": [
    "2.What do the escape characters n and t stand for?\n",
    "\n",
    "n stands for new line, t stands for tab."
   ]
  },
  {
   "cell_type": "markdown",
   "id": "7ba5ade7",
   "metadata": {},
   "source": [
    "3.What is the way to include backslash characters in a string?\n",
    "\n",
    "If we want to include a backlash character in a string, we have to use two backlash"
   ]
  },
  {
   "cell_type": "markdown",
   "id": "7bf9c7af",
   "metadata": {},
   "source": [
    "4.The string \"Howl's Moving Castle\" is a correct value. Why isn't the single quote character in the word Howl's not escaped a problem?\n",
    "\n",
    "Here double quotes have been used to mark begining and ending of the string."
   ]
  },
  {
   "cell_type": "markdown",
   "id": "f1b0154e",
   "metadata": {},
   "source": [
    "5.How do you write a string of newlines if you don't want to use the n character?\n",
    "\n",
    "We have to write the string in triple quotes."
   ]
  },
  {
   "cell_type": "markdown",
   "id": "ff906fe5",
   "metadata": {},
   "source": [
    "6.What are the values of the given expressions?\n",
    "'Hello, world!'[1]\n",
    "'Hello, world!'[0:5]\n",
    "'Hello, world!'[:5]\n",
    "'Hello, world!'[3:]\n",
    "\n",
    "\n",
    "'Hello, world!'[1] = 'e',  'Hello, world!'[0:5] = 'Hello',  'Hello, world!'[:5] = 'Hello',  'Hello, world!'[3:] = 'lo, world!'"
   ]
  },
  {
   "cell_type": "markdown",
   "id": "4f04c4c1",
   "metadata": {},
   "source": [
    "7.What are the values of the following expressions?\n",
    "'Hello'.upper()\n",
    "'Hello'.upper().isupper()\n",
    "'Hello'.upper().lower()\n",
    "\n",
    "\n",
    "'Hello'.upper() = 'HELLO',  'Hello'.upper().isupper() = True,  'Hello'.upper().lower() = 'hello'"
   ]
  },
  {
   "cell_type": "markdown",
   "id": "0fa67197",
   "metadata": {},
   "source": [
    "8.What are the values of the following expressions?\n",
    "'Remember, remember, the fifth of July.'.split()\n",
    "'-'.join('There can only one.'.split())\n",
    "\n",
    "['Remember,', 'remember,', 'the', 'fifth', 'of', 'July.'],   'There-can-only-one.'"
   ]
  },
  {
   "cell_type": "markdown",
   "id": "dc0dedf9",
   "metadata": {},
   "source": [
    "9.What are the methods for right-justifying, left-justifying, and centering a string?\n",
    "\n",
    "rjust() for right-justifying,  ljust() for left-justifying,  center() for centering"
   ]
  },
  {
   "cell_type": "markdown",
   "id": "787e58a8",
   "metadata": {},
   "source": [
    "10.What is the best way to remove whitespace characters from the start or end?\n",
    "\n",
    "strip() removes all whitespace character from the start or end"
   ]
  }
 ],
 "metadata": {
  "kernelspec": {
   "display_name": "Python 3 (ipykernel)",
   "language": "python",
   "name": "python3"
  },
  "language_info": {
   "codemirror_mode": {
    "name": "ipython",
    "version": 3
   },
   "file_extension": ".py",
   "mimetype": "text/x-python",
   "name": "python",
   "nbconvert_exporter": "python",
   "pygments_lexer": "ipython3",
   "version": "3.9.9"
  }
 },
 "nbformat": 4,
 "nbformat_minor": 5
}
