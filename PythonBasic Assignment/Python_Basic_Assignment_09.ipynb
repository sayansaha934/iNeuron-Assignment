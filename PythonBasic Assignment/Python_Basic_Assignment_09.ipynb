{
 "cells": [
  {
   "cell_type": "markdown",
   "id": "e0fdf2ed",
   "metadata": {},
   "source": [
    "1.To what does a relative path refer?\n",
    "\n",
    "Relative path is the hirerchial path that locates a file or folder on a file system starting from a current directory."
   ]
  },
  {
   "cell_type": "markdown",
   "id": "e8c06bb2",
   "metadata": {},
   "source": [
    "2.What does an absolute path start with your operating system?\n",
    "\n",
    "An absolute path start from root element."
   ]
  },
  {
   "cell_type": "markdown",
   "id": "f9055c83",
   "metadata": {},
   "source": [
    "3.What do the functions os.getcwd() and os.chdir() do?\n",
    "\n",
    "os.getcwd() returns current working directory  and  os.chdir() changes the current working directory to specified path."
   ]
  },
  {
   "cell_type": "markdown",
   "id": "7473e9bb",
   "metadata": {},
   "source": [
    "4.What are the . and .. folders?\n",
    "\n",
    "'  .  ' represents the current directory  and   '  ..  ' represents the parent directory"
   ]
  },
  {
   "cell_type": "markdown",
   "id": "5d4028ff",
   "metadata": {},
   "source": [
    "5.In C:\\bacon\\eggs\\spam.txt, which part is the dir name, and which part is the base name?\n",
    "\n",
    "C:\\bacon\\eggs  is dir name  and  spam.txt is base name."
   ]
  },
  {
   "cell_type": "markdown",
   "id": "ff5a3284",
   "metadata": {},
   "source": [
    "6.What are the three “mode” arguments that can be passed to the open() function?\n",
    "\n",
    "'  r  ' open for reading,   '  w  ' open for writing truncating the file first,  '  a  ' open for writing, appending to the end of the file if it exists."
   ]
  },
  {
   "cell_type": "markdown",
   "id": "40d441b4",
   "metadata": {},
   "source": [
    "7.What happens if an existing file is opened in write mode?\n",
    "\n",
    "First it truncates the exsisting file."
   ]
  },
  {
   "cell_type": "markdown",
   "id": "6a425621",
   "metadata": {},
   "source": [
    "8.How do you tell the difference between read() and readlines()?\n",
    "\n",
    "read() -  It reads everything in the file from start to finish and return a string,  and  readlines() - It also reads everything in a file and returns  a list of strings of lines."
   ]
  },
  {
   "cell_type": "markdown",
   "id": "d43a55d3",
   "metadata": {},
   "source": [
    "9.What data structure does a shelf value resemble?\n",
    "\n",
    "A shelf value resembels a dictionary value."
   ]
  }
 ],
 "metadata": {
  "kernelspec": {
   "display_name": "Python 3 (ipykernel)",
   "language": "python",
   "name": "python3"
  },
  "language_info": {
   "codemirror_mode": {
    "name": "ipython",
    "version": 3
   },
   "file_extension": ".py",
   "mimetype": "text/x-python",
   "name": "python",
   "nbconvert_exporter": "python",
   "pygments_lexer": "ipython3",
   "version": "3.9.9"
  }
 },
 "nbformat": 4,
 "nbformat_minor": 5
}
