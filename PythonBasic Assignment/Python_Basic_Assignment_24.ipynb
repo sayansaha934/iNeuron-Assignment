{
 "cells": [
  {
   "cell_type": "markdown",
   "id": "ecf57055",
   "metadata": {},
   "source": [
    "1.What is the relationship between def statements and lambda expressions ?\n",
    "\n",
    "Both used to make function"
   ]
  },
  {
   "cell_type": "markdown",
   "id": "3a7a635b",
   "metadata": {},
   "source": [
    "2.What is the benefit of lambda?\n",
    "\n",
    "It hepls to create function on the go even without assigning a name "
   ]
  },
  {
   "cell_type": "markdown",
   "id": "d9640024",
   "metadata": {},
   "source": [
    "3.Compare and contrast map, filter, and reduce.\n",
    "\n",
    "map() takes a function and a sequence of iterable as parameter and returns output after applying the function to each iterable\n",
    "\n",
    "filter() takes a function and sequence of iterable as parameter and returns a list of exsisting values for which the given function is True\n",
    "\n",
    "reduce() takes a function and iterable as parameter and returns a single value after applying the function to the iterables."
   ]
  },
  {
   "cell_type": "markdown",
   "id": "b9c9a32d",
   "metadata": {},
   "source": [
    "4.What are function annotations, and how are they used?\n",
    "\n",
    "Function annotations are arbritary python expression that are associated with various part of the function. These expressions are evaluated at compile time andd have no life in python's rin time environment.\n",
    "\n",
    "\n",
    "def foo(a:'int', b:'float'=5.0)-> 'int':"
   ]
  },
  {
   "cell_type": "markdown",
   "id": "d31e36fc",
   "metadata": {},
   "source": [
    "5.What are recursive functions, and how are they used?\n",
    "\n",
    "When a function call itself the this kind of function is called recursive function."
   ]
  },
  {
   "cell_type": "code",
   "execution_count": null,
   "id": "48971c9d",
   "metadata": {},
   "outputs": [],
   "source": [
    "def factorial(n):\n",
    "    if n==0 or n==1:\n",
    "        return 1\n",
    "    else:\n",
    "        fact=n*factorial(n-1)\n",
    "        return fact"
   ]
  },
  {
   "cell_type": "markdown",
   "id": "e94155b3",
   "metadata": {},
   "source": [
    "Here factorial() is a recursive function."
   ]
  },
  {
   "cell_type": "markdown",
   "id": "685a1976",
   "metadata": {},
   "source": [
    "6.What are some general design guidelines for coding functions?\n",
    "\n",
    "1.Use 4 space indentation and no tabs.\n",
    "\n",
    "2.use docstring.\n",
    "\n",
    "3.Naming conventions.\n",
    "\n",
    "4.Name your classes and function consistently.\n",
    "\n",
    "5.Use python's default UTF-8 or ASCII encodings and not any fancy encodings. "
   ]
  },
  {
   "cell_type": "markdown",
   "id": "29b32f00",
   "metadata": {},
   "source": [
    "7.Name three or more ways that functions can communicate results to a caller.\n",
    "\n",
    "1.function can return single value\n",
    "\n",
    "2.It can return list, tuple,string\n",
    "\n",
    "3.It can return function object\n",
    "\n",
    "4.It can return class object."
   ]
  },
  {
   "cell_type": "code",
   "execution_count": null,
   "id": "57b9d1e2",
   "metadata": {},
   "outputs": [],
   "source": []
  },
  {
   "cell_type": "code",
   "execution_count": null,
   "id": "456cbbd5",
   "metadata": {},
   "outputs": [],
   "source": []
  }
 ],
 "metadata": {
  "kernelspec": {
   "display_name": "Python 3 (ipykernel)",
   "language": "python",
   "name": "python3"
  },
  "language_info": {
   "codemirror_mode": {
    "name": "ipython",
    "version": 3
   },
   "file_extension": ".py",
   "mimetype": "text/x-python",
   "name": "python",
   "nbconvert_exporter": "python",
   "pygments_lexer": "ipython3",
   "version": "3.9.9"
  }
 },
 "nbformat": 4,
 "nbformat_minor": 5
}
