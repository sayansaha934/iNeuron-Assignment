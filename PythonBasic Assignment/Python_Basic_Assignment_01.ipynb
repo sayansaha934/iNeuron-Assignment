{
 "cells": [
  {
   "cell_type": "markdown",
   "id": "753ed0e4",
   "metadata": {},
   "source": [
    "1. In the below elements which of them are values or an expression? eg:- values can be integer or string and expressions will be mathematical operators.\n",
    "*\n",
    "'hello'\n",
    "-87.8\n",
    "-\n",
    "/\n",
    "+\n",
    "6 \n",
    "\n",
    "\n",
    "values = 'hello', -87.8, 6 ;\n",
    " expression = *, -, /, +"
   ]
  },
  {
   "cell_type": "markdown",
   "id": "ea22b1a0",
   "metadata": {},
   "source": [
    "2. What is the difference between string and variable?\n",
    "\n",
    "variable = A variable can store any kind of value(string, integer, list etc.);\n",
    "string = A string is a value representing text"
   ]
  },
  {
   "cell_type": "markdown",
   "id": "49e3e6d0",
   "metadata": {},
   "source": [
    "3. Describe three different data types.\n",
    "\n",
    "Integer(int)=It is used to strore numbers without fractional component;\n",
    "Floating Point(float)=It is used to store numbers that may have a fractional component;\n",
    "String(str)=It is used to store text"
   ]
  },
  {
   "cell_type": "markdown",
   "id": "172aceb8",
   "metadata": {},
   "source": [
    "4. What is an expression made up of? What do all expressions do?\n",
    "\n",
    "An expression is made up of values, variables, operators, and call to function.\n",
    "Expression returns a value."
   ]
  },
  {
   "cell_type": "markdown",
   "id": "08fc1d4d",
   "metadata": {},
   "source": [
    "5. This assignment statements, like spam = 10. What is the difference between an expression and a statement?\n",
    "\n",
    "An expression can be reduced to value but a statement consumes a value to produce result"
   ]
  },
  {
   "cell_type": "markdown",
   "id": "1312619a",
   "metadata": {},
   "source": [
    "6. After running the following code, what does the variable bacon contain?\\\n",
    "bacon = 22\\\n",
    "bacon + 1\n",
    "\n",
    "bacon contains 22"
   ]
  },
  {
   "cell_type": "markdown",
   "id": "2f78d2af",
   "metadata": {},
   "source": [
    "7. What should the values of the following two terms be?\n",
    "'spam' + 'spamspam'\n",
    "'spam' * 3\n",
    "\n",
    "'spam' + 'spamspam' returns 'spamspamspam',\n",
    "'spam' * 3 returns 'spamspamspam'"
   ]
  },
  {
   "cell_type": "markdown",
   "id": "c20540cd",
   "metadata": {},
   "source": [
    "8. Why is eggs a valid variable name while 100 is invalid?\n",
    "\n",
    "Because eggs is a text and 100 is number and number can not assign value"
   ]
  },
  {
   "cell_type": "markdown",
   "id": "08c42fc9",
   "metadata": {},
   "source": [
    "9. What three functions can be used to get the integer, floating-point number, or string version of a value?\n",
    "\n",
    "int for integer, \n",
    "float for floating-point,\n",
    "str for string"
   ]
  },
  {
   "cell_type": "markdown",
   "id": "337cfc24",
   "metadata": {},
   "source": [
    "10. Why does this expression cause an error? How can you fix it?\n",
    "'I have eaten ' + 99 + ' burritos.'\n",
    "\n",
    "Because 'I have eaten ' and ' burritos.' are string and 99 is an integer, string and integer can not be concatenated.\n",
    "It can be fixed this way, 'I have eaten ' + '99' + ' burritos.'"
   ]
  }
 ],
 "metadata": {
  "kernelspec": {
   "display_name": "Python 3 (ipykernel)",
   "language": "python",
   "name": "python3"
  },
  "language_info": {
   "codemirror_mode": {
    "name": "ipython",
    "version": 3
   },
   "file_extension": ".py",
   "mimetype": "text/x-python",
   "name": "python",
   "nbconvert_exporter": "python",
   "pygments_lexer": "ipython3",
   "version": "3.9.9"
  }
 },
 "nbformat": 4,
 "nbformat_minor": 5
}
