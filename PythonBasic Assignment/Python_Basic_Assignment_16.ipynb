{
 "cells": [
  {
   "cell_type": "markdown",
   "id": "db00f7f9",
   "metadata": {},
   "source": [
    "1.Create a list called years_list, starting with the year of your birth, and each year thereafter until\n",
    "the year of your fifth birthday. For example, if you were born in 1980. the list would be years_list =\n",
    "[1980, 1981, 1982, 1983, 1984, 1985]."
   ]
  },
  {
   "cell_type": "code",
   "execution_count": 7,
   "id": "157ea071",
   "metadata": {},
   "outputs": [
    {
     "data": {
      "text/plain": [
       "[2000, 2001, 2002, 2003, 2004, 2005]"
      ]
     },
     "execution_count": 7,
     "metadata": {},
     "output_type": "execute_result"
    }
   ],
   "source": [
    "years_list=[2000+i for i in range(6)]\n",
    "years_list"
   ]
  },
  {
   "cell_type": "markdown",
   "id": "be8c612e",
   "metadata": {},
   "source": [
    "2.In which year in years_list was your third birthday? Remember, you were 0 years of age for your first year."
   ]
  },
  {
   "cell_type": "code",
   "execution_count": 8,
   "id": "22eab7c3",
   "metadata": {},
   "outputs": [
    {
     "data": {
      "text/plain": [
       "2003"
      ]
     },
     "execution_count": 8,
     "metadata": {},
     "output_type": "execute_result"
    }
   ],
   "source": [
    "years_list[3]"
   ]
  },
  {
   "cell_type": "markdown",
   "id": "9de1e3fe",
   "metadata": {},
   "source": [
    "3.In the years list, which year were you the oldest?"
   ]
  },
  {
   "cell_type": "code",
   "execution_count": 9,
   "id": "15d99520",
   "metadata": {},
   "outputs": [
    {
     "data": {
      "text/plain": [
       "2005"
      ]
     },
     "execution_count": 9,
     "metadata": {},
     "output_type": "execute_result"
    }
   ],
   "source": [
    "years_list[-1]"
   ]
  },
  {
   "cell_type": "markdown",
   "id": "15256463",
   "metadata": {},
   "source": [
    "4.Make a list called things with these three strings as elements: \"mozzarella\", \"cinderella\", \"salmonella\"."
   ]
  },
  {
   "cell_type": "code",
   "execution_count": 11,
   "id": "9f995aa4",
   "metadata": {},
   "outputs": [
    {
     "data": {
      "text/plain": [
       "['mozzarella', 'cinderella', 'salmonella']"
      ]
     },
     "execution_count": 11,
     "metadata": {},
     "output_type": "execute_result"
    }
   ],
   "source": [
    "things=[\"mozzarella\", \"cinderella\", \"salmonella\"]\n",
    "things"
   ]
  },
  {
   "cell_type": "markdown",
   "id": "17b17544",
   "metadata": {},
   "source": [
    "5.Capitalize the element in things that refers to a person and then print the list. Did it change the\n",
    "element in the list?"
   ]
  },
  {
   "cell_type": "code",
   "execution_count": 14,
   "id": "9e80d37a",
   "metadata": {},
   "outputs": [
    {
     "data": {
      "text/plain": [
       "'Cinderella'"
      ]
     },
     "execution_count": 14,
     "metadata": {},
     "output_type": "execute_result"
    }
   ],
   "source": [
    "things[1].capitalize()"
   ]
  },
  {
   "cell_type": "code",
   "execution_count": 15,
   "id": "83c05316",
   "metadata": {},
   "outputs": [
    {
     "data": {
      "text/plain": [
       "['mozzarella', 'cinderella', 'salmonella']"
      ]
     },
     "execution_count": 15,
     "metadata": {},
     "output_type": "execute_result"
    }
   ],
   "source": [
    "things"
   ]
  },
  {
   "cell_type": "markdown",
   "id": "225d81c7",
   "metadata": {},
   "source": [
    "No, it did not change the element in the list"
   ]
  },
  {
   "cell_type": "markdown",
   "id": "13c640de",
   "metadata": {},
   "source": [
    "6.Make a surprise list with the elements \"Groucho,\" \"Chico,\" and \"Harpo.\""
   ]
  },
  {
   "cell_type": "code",
   "execution_count": 20,
   "id": "7338dd70",
   "metadata": {},
   "outputs": [
    {
     "data": {
      "text/plain": [
       "['Groucho', 'Chico', 'Harpo']"
      ]
     },
     "execution_count": 20,
     "metadata": {},
     "output_type": "execute_result"
    }
   ],
   "source": [
    "surprise=[\"Groucho\", \"Chico\", \"Harpo\"]\n",
    "surprise"
   ]
  },
  {
   "cell_type": "markdown",
   "id": "ba62d3f1",
   "metadata": {},
   "source": [
    "7.Lowercase the last element of the surprise list, reverse it, and then capitalize it."
   ]
  },
  {
   "cell_type": "code",
   "execution_count": 28,
   "id": "177b7cb0",
   "metadata": {},
   "outputs": [
    {
     "data": {
      "text/plain": [
       "'Oprah'"
      ]
     },
     "execution_count": 28,
     "metadata": {},
     "output_type": "execute_result"
    }
   ],
   "source": [
    "surprise[-1].lower()[::-1].capitalize()"
   ]
  },
  {
   "cell_type": "markdown",
   "id": "b0d30618",
   "metadata": {},
   "source": [
    "8.Make an English-to-French dictionary called e2f and print it. Here are your starter words: dog is\n",
    "chien, cat is chat, and walrus is morse."
   ]
  },
  {
   "cell_type": "code",
   "execution_count": 30,
   "id": "f2fe74ce",
   "metadata": {},
   "outputs": [
    {
     "data": {
      "text/plain": [
       "{'dog': 'chien', 'cat': 'chat', 'walrus': 'morse'}"
      ]
     },
     "execution_count": 30,
     "metadata": {},
     "output_type": "execute_result"
    }
   ],
   "source": [
    "e2f={'dog':'chien', 'cat':'chat', 'walrus':'morse'}\n",
    "e2f"
   ]
  },
  {
   "cell_type": "markdown",
   "id": "9f7b2a4d",
   "metadata": {},
   "source": [
    "9.Write the French word for walrus in your three-word dictionary e2f."
   ]
  },
  {
   "cell_type": "code",
   "execution_count": 32,
   "id": "a4191865",
   "metadata": {},
   "outputs": [
    {
     "data": {
      "text/plain": [
       "'morse'"
      ]
     },
     "execution_count": 32,
     "metadata": {},
     "output_type": "execute_result"
    }
   ],
   "source": [
    "e2f['walrus']"
   ]
  },
  {
   "cell_type": "markdown",
   "id": "948eb8cb",
   "metadata": {},
   "source": [
    "10.Make a French-to-English dictionary called f2e from e2f. Use the items method."
   ]
  },
  {
   "cell_type": "code",
   "execution_count": 42,
   "id": "5de8ae53",
   "metadata": {},
   "outputs": [
    {
     "data": {
      "text/plain": [
       "{'chien': 'dog', 'chat': 'cat', 'morse': 'walrus'}"
      ]
     },
     "execution_count": 42,
     "metadata": {},
     "output_type": "execute_result"
    }
   ],
   "source": [
    "f2e={}\n",
    "for key, value in e2f.items():\n",
    "    f2e[value]=key\n",
    "f2e"
   ]
  },
  {
   "cell_type": "markdown",
   "id": "2b98ac86",
   "metadata": {},
   "source": [
    "11.Print the English version of the French word chien using f2e."
   ]
  },
  {
   "cell_type": "code",
   "execution_count": 43,
   "id": "9a5cb598",
   "metadata": {},
   "outputs": [
    {
     "data": {
      "text/plain": [
       "'dog'"
      ]
     },
     "execution_count": 43,
     "metadata": {},
     "output_type": "execute_result"
    }
   ],
   "source": [
    "f2e['chien']"
   ]
  },
  {
   "cell_type": "markdown",
   "id": "8ae55495",
   "metadata": {},
   "source": [
    "12.Make and print a set of English words from the keys in e2f."
   ]
  },
  {
   "cell_type": "code",
   "execution_count": 46,
   "id": "f7c5283c",
   "metadata": {},
   "outputs": [
    {
     "data": {
      "text/plain": [
       "{'cat', 'dog', 'walrus'}"
      ]
     },
     "execution_count": 46,
     "metadata": {},
     "output_type": "execute_result"
    }
   ],
   "source": [
    "set(e2f.keys())"
   ]
  },
  {
   "cell_type": "markdown",
   "id": "4ed0ccd5",
   "metadata": {},
   "source": [
    "13.Make a multilevel dictionary called life. Use these strings for the topmost keys: 'animals', 'plants',\n",
    "and 'other'. Make the 'animals' key refer to another dictionary with the keys 'cats', 'octopi', and\n",
    "'emus'. Make the 'cats' key refer to a list of strings with the values 'Henri', 'Grumpy', and 'Lucy'.\n",
    "Make all the other keys refer to empty dictionaries."
   ]
  },
  {
   "cell_type": "code",
   "execution_count": 49,
   "id": "5b43463f",
   "metadata": {},
   "outputs": [
    {
     "data": {
      "text/plain": [
       "{'animals': {'cats': ['Henri', 'Grumpy', 'Lucy'], 'octopi': {}, 'emus': {}},\n",
       " 'plants': {},\n",
       " 'others': {}}"
      ]
     },
     "execution_count": 49,
     "metadata": {},
     "output_type": "execute_result"
    }
   ],
   "source": [
    "life={'animals':{'cats':['Henri', 'Grumpy', 'Lucy'] , 'octopi':{} , 'emus': {}}, 'plants':{}, 'others':{}}\n",
    "life"
   ]
  },
  {
   "cell_type": "markdown",
   "id": "8f7fa747",
   "metadata": {},
   "source": [
    "14.Print the top-level keys of life."
   ]
  },
  {
   "cell_type": "code",
   "execution_count": 51,
   "id": "2b6b34a1",
   "metadata": {},
   "outputs": [
    {
     "data": {
      "text/plain": [
       "dict_keys(['animals', 'plants', 'others'])"
      ]
     },
     "execution_count": 51,
     "metadata": {},
     "output_type": "execute_result"
    }
   ],
   "source": [
    "life.keys()"
   ]
  },
  {
   "cell_type": "markdown",
   "id": "af550c24",
   "metadata": {},
   "source": [
    "15.Print the keys for life['animals']."
   ]
  },
  {
   "cell_type": "code",
   "execution_count": 61,
   "id": "7519a715",
   "metadata": {},
   "outputs": [
    {
     "data": {
      "text/plain": [
       "dict_keys(['cats', 'octopi', 'emus'])"
      ]
     },
     "execution_count": 61,
     "metadata": {},
     "output_type": "execute_result"
    }
   ],
   "source": [
    "life['animals'].keys()"
   ]
  },
  {
   "cell_type": "markdown",
   "id": "0eddc7b3",
   "metadata": {},
   "source": [
    "16.Print the values for life['animals']['cats']"
   ]
  },
  {
   "cell_type": "code",
   "execution_count": 62,
   "id": "437801b5",
   "metadata": {},
   "outputs": [
    {
     "data": {
      "text/plain": [
       "['Henri', 'Grumpy', 'Lucy']"
      ]
     },
     "execution_count": 62,
     "metadata": {},
     "output_type": "execute_result"
    }
   ],
   "source": [
    "life['animals']['cats']"
   ]
  }
 ],
 "metadata": {
  "kernelspec": {
   "display_name": "Python 3 (ipykernel)",
   "language": "python",
   "name": "python3"
  },
  "language_info": {
   "codemirror_mode": {
    "name": "ipython",
    "version": 3
   },
   "file_extension": ".py",
   "mimetype": "text/x-python",
   "name": "python",
   "nbconvert_exporter": "python",
   "pygments_lexer": "ipython3",
   "version": "3.9.9"
  }
 },
 "nbformat": 4,
 "nbformat_minor": 5
}
